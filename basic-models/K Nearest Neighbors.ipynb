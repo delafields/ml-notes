{
 "cells": [
  {
   "cell_type": "markdown",
   "metadata": {},
   "source": [
    "# K Nearest Neighbors\n",
    "K Nearest Neighbors is a (supervised) classification technique and the way it works is completely in its name:\n",
    "* **K** is a number you choose\n",
    "* **Neighbors** are the data points from known data\n",
    "\n",
    "Let's say K = 3, so then we're looking or the two closest neighboring points. For example:\n",
    "![KNN1](https://pythonprogramming.net/static/images/machine-learning/simple-classification-example-data-with-test-4.png)\n",
    "\n",
    "In the above image, the *3 nearest neighbors* are circled. KNN is basically going to go to a majority vote based on the neighbors.  In this case, all 3 were of the + class, so this is 100% a + class. If 2 neighbors were red + and 1 was a black dot, we'd still classify this as a +, just with a bit less confidence. \n",
    "\n",
    "***Note: Due to the nature of the vote, you will likely want to use an odd number for K, otherwise you may find yourself in a 50/50 split situation.*** More sophisticated implementations apply a penalization weight to the distances as a roundabout for this issue. "
   ]
  },
  {
   "cell_type": "markdown",
   "metadata": {},
   "source": [
    "### Euclidean Distance\n",
    "There are various ways to compute distance on a plane but the most widely used way is **Euclidean Distance**.\n",
    "\n",
    "Mathematically represented as: $\\sqrt{\\sum^{n}_{i=1}(q_i - p_i)^2}$\n",
    "\n",
    "This essentially is just **the square root of the sum of the distance of the points from eachother, squared**. In code this looks like:"
   ]
  },
  {
   "cell_type": "code",
   "execution_count": 68,
   "metadata": {},
   "outputs": [
    {
     "name": "stdout",
     "output_type": "stream",
     "text": [
      "Euclidean Distance:  2.23606797749979\n"
     ]
    }
   ],
   "source": [
    "from math import sqrt\n",
    "\n",
    "point1 = [1,3]\n",
    "point2 = [2,5]\n",
    "euclidean_distance_ex = sqrt( (point1[0]-point2[0])**2 + (point1[1]-point2[1])**2 )\n",
    "print(f\"Euclidean Distance:  {euclidean_distance_ex}\")"
   ]
  },
  {
   "cell_type": "markdown",
   "metadata": {},
   "source": [
    "## Implementation\n",
    "**STEPS**:\n",
    "1. Initialize the value of **k**\n",
    "2. For getting the predicted class, iterate from 1 to total # of training data points\n",
    "    1. Calculate the Euclidean Distance between the test data and each row of training data\n",
    "    2. Sort the calculated distances in ascending order based on distance values\n",
    "    3. Get the top **k** rows from the sorted array\n",
    "    4. Get the most frequent class of these rows\n",
    "    5. Return the predicted class"
   ]
  },
  {
   "cell_type": "code",
   "execution_count": 65,
   "metadata": {},
   "outputs": [],
   "source": [
    "# import packages\n",
    "import pandas as pd\n",
    "import numpy as np\n",
    "import operator\n",
    "import matplotlib.pyplot as plt\n",
    "plt.style.use('ggplot')\n",
    "%matplotlib inline"
   ]
  },
  {
   "cell_type": "code",
   "execution_count": 66,
   "metadata": {},
   "outputs": [
    {
     "data": {
      "text/html": [
       "<div>\n",
       "<style scoped>\n",
       "    .dataframe tbody tr th:only-of-type {\n",
       "        vertical-align: middle;\n",
       "    }\n",
       "\n",
       "    .dataframe tbody tr th {\n",
       "        vertical-align: top;\n",
       "    }\n",
       "\n",
       "    .dataframe thead th {\n",
       "        text-align: right;\n",
       "    }\n",
       "</style>\n",
       "<table border=\"1\" class=\"dataframe\">\n",
       "  <thead>\n",
       "    <tr style=\"text-align: right;\">\n",
       "      <th></th>\n",
       "      <th>sepal length (cm)</th>\n",
       "      <th>sepal width (cm)</th>\n",
       "      <th>petal length (cm)</th>\n",
       "      <th>petal width (cm)</th>\n",
       "      <th>target</th>\n",
       "    </tr>\n",
       "  </thead>\n",
       "  <tbody>\n",
       "    <tr>\n",
       "      <th>0</th>\n",
       "      <td>5.1</td>\n",
       "      <td>3.5</td>\n",
       "      <td>1.4</td>\n",
       "      <td>0.2</td>\n",
       "      <td>0</td>\n",
       "    </tr>\n",
       "    <tr>\n",
       "      <th>1</th>\n",
       "      <td>4.9</td>\n",
       "      <td>3.0</td>\n",
       "      <td>1.4</td>\n",
       "      <td>0.2</td>\n",
       "      <td>0</td>\n",
       "    </tr>\n",
       "    <tr>\n",
       "      <th>2</th>\n",
       "      <td>4.7</td>\n",
       "      <td>3.2</td>\n",
       "      <td>1.3</td>\n",
       "      <td>0.2</td>\n",
       "      <td>0</td>\n",
       "    </tr>\n",
       "    <tr>\n",
       "      <th>3</th>\n",
       "      <td>4.6</td>\n",
       "      <td>3.1</td>\n",
       "      <td>1.5</td>\n",
       "      <td>0.2</td>\n",
       "      <td>0</td>\n",
       "    </tr>\n",
       "    <tr>\n",
       "      <th>4</th>\n",
       "      <td>5.0</td>\n",
       "      <td>3.6</td>\n",
       "      <td>1.4</td>\n",
       "      <td>0.2</td>\n",
       "      <td>0</td>\n",
       "    </tr>\n",
       "  </tbody>\n",
       "</table>\n",
       "</div>"
      ],
      "text/plain": [
       "   sepal length (cm)  sepal width (cm)  petal length (cm)  petal width (cm)  \\\n",
       "0                5.1               3.5                1.4               0.2   \n",
       "1                4.9               3.0                1.4               0.2   \n",
       "2                4.7               3.2                1.3               0.2   \n",
       "3                4.6               3.1                1.5               0.2   \n",
       "4                5.0               3.6                1.4               0.2   \n",
       "\n",
       "   target  \n",
       "0       0  \n",
       "1       0  \n",
       "2       0  \n",
       "3       0  \n",
       "4       0  "
      ]
     },
     "execution_count": 66,
     "metadata": {},
     "output_type": "execute_result"
    }
   ],
   "source": [
    "# import data\n",
    "from sklearn.datasets import load_iris\n",
    "iris_data = load_iris()\n",
    "iris = pd.DataFrame(data=iris_data.data, columns=iris_data.feature_names)\n",
    "iris['target'] = pd.Series(iris_data.target)\n",
    "iris.head()"
   ]
  },
  {
   "cell_type": "markdown",
   "metadata": {},
   "source": [
    "For the record, `target`'s associated flowers are:\n",
    "* 0 = setosa\n",
    "* 1 = versicolor\n",
    "* 2 = virginica"
   ]
  },
  {
   "cell_type": "code",
   "execution_count": 67,
   "metadata": {},
   "outputs": [
    {
     "data": {
      "text/plain": [
       "Text(0.5, 1.0, 'sepal width vs. sepal length')"
      ]
     },
     "execution_count": 67,
     "metadata": {},
     "output_type": "execute_result"
    },
    {
     "data": {
      "image/png": "[encoded data removed]",
      "text/plain": [
       "<Figure size 432x288 with 1 Axes>"
      ]
     },
     "metadata": {
      "needs_background": "light"
     },
     "output_type": "display_data"
    }
   ],
   "source": [
    "# plot the data\n",
    "# we'll look at sepal length/width to see some clustering\n",
    "plt.scatter(iris.iloc[:, 0], iris.iloc[:, 1], c=iris.target)\n",
    "plt.xlabel(iris.columns[0])\n",
    "plt.ylabel(iris.columns[1])\n",
    "plt.title(\"sepal width vs. sepal length\")"
   ]
  },
  {
   "cell_type": "markdown",
   "metadata": {},
   "source": [
    "### Calculating Euclidean Distance"
   ]
  },
  {
   "cell_type": "code",
   "execution_count": 71,
   "metadata": {},
   "outputs": [],
   "source": [
    "def euclidean_distance(data1, data2, length):\n",
    "    distance = 0\n",
    "    \n",
    "    for x in range(length):\n",
    "        distance += np.square(data1[x] - data2[x])\n",
    "        \n",
    "    return np.sqrt(distance)"
   ]
  },
  {
   "cell_type": "markdown",
   "metadata": {},
   "source": [
    "### Defining our KNN Model"
   ]
  },
  {
   "cell_type": "code",
   "execution_count": 73,
   "metadata": {},
   "outputs": [],
   "source": [
    "def knn(training_set, test_set, k):\n",
    "    \n",
    "    distances = {}\n",
    "    sort = {}\n",
    "    \n",
    "    length = test_set.shape[1]\n",
    "    \n",
    "    #### STEP 3\n",
    "    # Calculating Euclidean Distance between each row of training data and test data\n",
    "    for x in range(len(training_set)):\n",
    "        \n",
    "        #### STEP 3.A\n",
    "        dist = euclidean_distance(test_set, training_set.iloc[x], length)\n",
    "        \n",
    "        distances[x] = dist[0]\n",
    "        \n",
    "    #### STEP 3.B\n",
    "    # Sorting them based on distance\n",
    "    sorted_dist = sorted(distances.items(), key=operator.itemgetter(1))\n",
    "    \n",
    "    neighbors = []\n",
    "    \n",
    "    #### STEP 3.C\n",
    "    # Extracting the top k neighbors\n",
    "    for x in range(k):\n",
    "        neighbors.append(sorted_dist[x][0])\n",
    "        \n",
    "    class_votes = {}\n",
    "    \n",
    "    #### STEP 3.D\n",
    "    # Calculating the most frequent class in the neighbors\n",
    "    for x in range(len(neighbors)):\n",
    "        response = training_set.iloc[neighbors[x]][-1]\n",
    "        \n",
    "        if response in class_votes:\n",
    "            class_votes[response] += 1\n",
    "        else:\n",
    "            class_votes[response] = 1\n",
    "            \n",
    "    #### STEP 3.E\n",
    "    sorted_votes = sorted(class_votes.items(), key=operator.itemgetter(1), reverse=True)\n",
    "    return(sorted_votes[0][0], neighbors)"
   ]
  },
  {
   "cell_type": "markdown",
   "metadata": {},
   "source": [
    "#### Trying it on a dummy set"
   ]
  },
  {
   "cell_type": "code",
   "execution_count": 77,
   "metadata": {},
   "outputs": [],
   "source": [
    "test_data = [[5.0, 3.75, 5.1, 2.5]]\n",
    "test = pd.DataFrame(test_data)"
   ]
  },
  {
   "cell_type": "code",
   "execution_count": 78,
   "metadata": {},
   "outputs": [
    {
     "name": "stdout",
     "output_type": "stream",
     "text": [
      "2.0\n"
     ]
    }
   ],
   "source": [
    "# Set number of neighbors = 1\n",
    "k = 1\n",
    "\n",
    "# Run the model\n",
    "result, neigh = knn(iris, test, k)\n",
    "\n",
    "# Predicted class\n",
    "print(result)"
   ]
  },
  {
   "cell_type": "markdown",
   "metadata": {},
   "source": [
    "Okay, so our predicted class is 2, which should be virginica - the purple one. \n",
    "\n",
    "Let's plot this new point in red and our old data and see if this looks right."
   ]
  },
  {
   "cell_type": "code",
   "execution_count": 79,
   "metadata": {},
   "outputs": [
    {
     "data": {
      "text/plain": [
       "Text(0.5, 1.0, 'sepal width vs. sepal length')"
      ]
     },
     "execution_count": 79,
     "metadata": {},
     "output_type": "execute_result"
    },
    {
     "data": {
      "image/png": "[encoded data removed]",
      "text/plain": [
       "<Figure size 432x288 with 1 Axes>"
      ]
     },
     "metadata": {
      "needs_background": "light"
     },
     "output_type": "display_data"
    }
   ],
   "source": [
    "plt.scatter(iris.iloc[:, 0], iris.iloc[:, 1], c=iris.target)\n",
    "plt.scatter(test.iloc[:, 0], test.iloc[:, 1], c='r')\n",
    "plt.xlabel(iris.columns[0])\n",
    "plt.ylabel(iris.columns[1])\n",
    "plt.title(\"sepal width vs. sepal length\")"
   ]
  },
  {
   "cell_type": "markdown",
   "metadata": {},
   "source": [
    "Andddddd we did it. Checks out!"
   ]
  }
 ],
 "metadata": {
  "kernelspec": {
   "display_name": "Python 3",
   "language": "python",
   "name": "python3"
  },
  "language_info": {
   "codemirror_mode": {
    "name": "ipython",
    "version": 3
   },
   "file_extension": ".py",
   "mimetype": "text/x-python",
   "name": "python",
   "nbconvert_exporter": "python",
   "pygments_lexer": "ipython3",
   "version": "3.6.0"
  }
 },
 "nbformat": 4,
 "nbformat_minor": 2
}

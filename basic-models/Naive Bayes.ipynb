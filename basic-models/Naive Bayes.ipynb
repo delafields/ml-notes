{
 "cells": [
  {
   "cell_type": "markdown",
   "metadata": {},
   "source": [
    "# Naive Bayes\n",
    "Naive Bayes is a classification technique based on Bayes' Theorem with the assumption of independence among predictors. The latter part means: the presence of a particular feature in a class is unrelated to the presence of any other feature.\n",
    "* Example: A fruit may be considered an pple if it is red, round, and about 3 inches in diameter.\n",
    "* Even if these features depend on one another, all of these properties independently contribute to the probability that this fruit is an apple, and that's why it is known as Naive.\n",
    "\n",
    "Naive Bayes is easy to build and particularly useful for large datsets."
   ]
  },
  {
   "cell_type": "markdown",
   "metadata": {},
   "source": [
    "#### Calculation\n",
    "Bayes theorem provides a way of calculating posterior probability  $P(c|x)$ from $P(c)$, $P(x)$ and $P(x|c)$:\n",
    "\n",
    "$$P(c|x) = \\frac{P(x|c) P(c)}{P(x)}$$\n",
    "\n",
    "Where:\n",
    "* $P(c|x)$ is the posterior probability of *class* (c, target) given *predictor* (x, attributes)\n",
    "* $P(c)$ is the prior probability of *class* \n",
    "* $P(x|c)$ is the likeligood of which the probability of *predictor* given *class* \n",
    "* $P(x)$ is the prior probability of *predictor* "
   ]
  },
  {
   "cell_type": "markdown",
   "metadata": {},
   "source": [
    "### How it works\n",
    "We'll use an example of some data - does a person go outside and play depending on the weather? We'll try to classify whether someone will play based on weather condition.\n",
    "\n",
    "**Steps**\n",
    "1. Convert the data to a frequency table\n",
    "2. Create a Likelihood table by finding the probabilities\n",
    "    * Like, $P(Overcast)=0.29$ and $P(Playing)=0.64$\n",
    "3. Now, use Naive Bayes equation to calculate the posterior probability for each class. The class with the highest posterior probability is the outcome of the prediction\n",
    "\n",
    "![NB ex](https://www.analyticsvidhya.com/wp-content/uploads/2015/08/Bayes_41.png)\n",
    "\n",
    "**Hypothesis:** People will play if weather is sunny.\n",
    "\n",
    "Solving via posterior probability:\n",
    "* $P(Yes|Sunny) = P(Sunny|Yes) \\frac{P(Yes}{P(Sunny)}$\n",
    "    * $P(Sunny|Yes) = \\frac{3}{9} = 0.33$ \n",
    "    * $P(Yes) = \\frac{9}{14} = 0.64$\n",
    "    * $P(Sunny) = \\frac{5}{14} = 0.36$\n",
    "* $P(Yes|Sunny) = 0.33 * \\frac{0.64}{0.36} = 0.60$"
   ]
  },
  {
   "cell_type": "markdown",
   "metadata": {},
   "source": [
    "### Pros\n",
    "* Easy and fast to predict classes of data.\n",
    "* Performs well in multi-class problems\n",
    "* When assumption of independence holds, Naive Bayes performs better compared to something like logistic regression and you need less training data\n",
    "* Performs well in the case of categorical input variables\n",
    "\n",
    "### Cons\n",
    "* If categorical variables in the test data have a category that was not observed in training, then the model will assign a 0 probability and will be unable to make a prediction\n",
    "    * This is known as \"Zero Frequency\"\n",
    "    * We can use a smoothing technique like Laplace estimation to solve this\n",
    "* A bad estimator - the probability ouputs are not to be taken seriously\n",
    "* The assumption of independent predictors - in real life this isn't usually the case"
   ]
  },
  {
   "cell_type": "markdown",
   "metadata": {},
   "source": [
    "## Applications\n",
    "* **Real time Prediction:** Naive Bayes is an eager learning classifier and it is sure fast. Thus, it could be used for making predictions in real time.\n",
    "* **Multi class Prediction:** This algorithm is also well known for multi class prediction feature. Here we can predict the probability of multiple classes of target variable.\n",
    "* **Text classification/ Spam Filtering/ Sentiment Analysis:** Naive Bayes classifiers mostly used in text classification (due to better result in multi class problems and independence rule) have higher success rate as compared to other algorithms. As a result, it is widely used in Spam filtering (identify spam e-mail) and Sentiment Analysis (in social media analysis, to identify positive and negative customer sentiments)\n",
    "* **Recommendation System:** Naive Bayes Classifier and Collaborative Filtering together builds a Recommendation System that uses machine learning and data mining techniques to filter unseen information and predict whether a user would like a given resource or not"
   ]
  },
  {
   "cell_type": "markdown",
   "metadata": {},
   "source": [
    "## Implementation using Scikit\n",
    "Scikit has 3 types of Naive Bayes\n",
    "1. **Gaussian:** Used in classification and it assumes that features follow a normal distribution\n",
    "2. **Multinomial:** It is used for discrete counts. For example, we have a text classification problem. Here, we can consider Bernoulli trials which is one step further and instead of \"word occuring in the document\", we have \"count how often word occurs in the document\". You can think of it as \"number of times outcome number $x_i$ is observed over the $n$ trials.\n",
    "3. **Bernoulli:** The binomial model is useful if your feature vectors are binary. One application would be text classification with a \"bag of words\" model where the 1s and 0s are \"words occurs in the document\" and \"word does not occur in the document\"."
   ]
  },
  {
   "cell_type": "markdown",
   "metadata": {},
   "source": [
    "##### Import packages"
   ]
  },
  {
   "cell_type": "code",
   "execution_count": 2,
   "metadata": {},
   "outputs": [],
   "source": [
    "from sklearn.naive_bayes import GaussianNB\n",
    "import numpy as np"
   ]
  },
  {
   "cell_type": "markdown",
   "metadata": {},
   "source": [
    "##### Create dummy data"
   ]
  },
  {
   "cell_type": "code",
   "execution_count": 7,
   "metadata": {},
   "outputs": [],
   "source": [
    "np.random.seed(42)\n",
    "\n",
    "X = np.array([[-3,7],[1,5], [1,2], \n",
    "              [-2,0], [2,3], [-4,0], \n",
    "              [-1,1], [1,1], [-2,2], \n",
    "              [2,7], [-4,1], [-2,7]])\n",
    "\n",
    "y = np.array([3, 3, 3, 3, 4, 3, 3, 4, 3, 4, 4, 4])"
   ]
  },
  {
   "cell_type": "markdown",
   "metadata": {},
   "source": [
    "##### Create model"
   ]
  },
  {
   "cell_type": "code",
   "execution_count": 9,
   "metadata": {},
   "outputs": [
    {
     "name": "stdout",
     "output_type": "stream",
     "text": [
      "[3 4]\n"
     ]
    }
   ],
   "source": [
    "# Create classifier\n",
    "model = GaussianNB()\n",
    "\n",
    "# Train the model\n",
    "model.fit(X, y)\n",
    "\n",
    "# Predict Output\n",
    "predicted = model.predict([[1,2], [3,4]]) # should output 3 4\n",
    "print(predicted)"
   ]
  }
 ],
 "metadata": {
  "kernelspec": {
   "display_name": "Python 3",
   "language": "python",
   "name": "python3"
  },
  "language_info": {
   "codemirror_mode": {
    "name": "ipython",
    "version": 3
   },
   "file_extension": ".py",
   "mimetype": "text/x-python",
   "name": "python",
   "nbconvert_exporter": "python",
   "pygments_lexer": "ipython3",
   "version": "3.6.0"
  }
 },
 "nbformat": 4,
 "nbformat_minor": 2
}

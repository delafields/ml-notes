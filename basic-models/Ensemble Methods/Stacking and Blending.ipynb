{
 "cells": [
  {
   "cell_type": "markdown",
   "metadata": {},
   "source": [
    "# Stacking\n",
    "Stacking is an ensemble learning technique that uses predictions from multiple models to build a new model, which is in turn used for making predictions on the test set. To follow is a step-wise visualization of the steps to make a simple stacked ensemble:"
   ]
  },
  {
   "cell_type": "markdown",
   "metadata": {},
   "source": [
    "1. The train set is split into 10 parts\n",
    "![1](https://s3-ap-south-1.amazonaws.com/av-blog-media/wp-content/uploads/2018/05/image-11-300x217.png)\n",
    "\n",
    "2. A base model (say, a decision tree) is fitted on 9 parts and predictions are made for the 10th part. This is done for each part of the train set.\n",
    "![2](https://s3-ap-south-1.amazonaws.com/av-blog-media/wp-content/uploads/2018/05/image-10-300x249.png)\n",
    "\n",
    "3. The base model is then fitted on the whole training set\n",
    "\n",
    "4. Using this model, predictions are made on the test set\n",
    "![4](https://s3-ap-south-1.amazonaws.com/av-blog-media/wp-content/uploads/2018/05/image-2-300x225.png)\n",
    "\n",
    "5. Steps 2-4 are repeated for another base model (say, KNN), resulting in another set of predictions for the train set and test set\n",
    "![5](https://s3-ap-south-1.amazonaws.com/av-blog-media/wp-content/uploads/2018/05/image-3-300x224.png)\n",
    "\n",
    "6. The predictions from the training set are used as features to build a new model\n",
    "![6](https://s3-ap-south-1.amazonaws.com/av-blog-media/wp-content/uploads/2018/05/image12-292x300.png)\n",
    "\n",
    "7. This model is used to make final predictions on the test set"
   ]
  },
  {
   "cell_type": "markdown",
   "metadata": {},
   "source": [
    "# Blending\n",
    "Blending follows the same approach as tsacking but uses only the holdout (validation) set from the training set to make predictions - ie. unlike stacking, the predictions are made on the holdout set alone. The holdout set and the predictions are used to build a model which is run on the test set. Here is a visualization of the steps:"
   ]
  },
  {
   "cell_type": "markdown",
   "metadata": {},
   "source": [
    "1. The training set is split into training and validation sets\n",
    "![1](https://s3-ap-south-1.amazonaws.com/av-blog-media/wp-content/uploads/2018/05/image-7-300x226.png)\n",
    "\n",
    "2. Models are fitted on the training set\n",
    "\n",
    "3. The predictions are made on the validation set and the test set\n",
    "![3](https://s3-ap-south-1.amazonaws.com/av-blog-media/wp-content/uploads/2018/05/image-5-300x228.png)\n",
    "\n",
    "4. The validation set and its predictions are used as features for building a new model\n",
    "\n",
    "5. This model is used to make the final predictions on the test and meta-features"
   ]
  },
  {
   "cell_type": "code",
   "execution_count": null,
   "metadata": {},
   "outputs": [],
   "source": []
  }
 ],
 "metadata": {
  "kernelspec": {
   "display_name": "Python 3",
   "language": "python",
   "name": "python3"
  },
  "language_info": {
   "codemirror_mode": {
    "name": "ipython",
    "version": 3
   },
   "file_extension": ".py",
   "mimetype": "text/x-python",
   "name": "python",
   "nbconvert_exporter": "python",
   "pygments_lexer": "ipython3",
   "version": "3.6.0"
  }
 },
 "nbformat": 4,
 "nbformat_minor": 2
}

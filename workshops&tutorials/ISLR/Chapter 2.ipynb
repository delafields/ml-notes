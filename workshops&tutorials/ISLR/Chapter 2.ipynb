{
 "cells": [
  {
   "cell_type": "code",
   "execution_count": 5,
   "metadata": {},
   "outputs": [],
   "source": [
    "library(ISLR)\n",
    "library(dplyr)"
   ]
  },
  {
   "cell_type": "markdown",
   "metadata": {},
   "source": [
    "## Conceptual\n",
    "1. For each of parts (a) through (d) indicate whether we would generally expect the performance of a flexible statistical learning method to be better or worse than an inflexible method.\n",
    "    1. The sample size *n* is extremely large and the number of predictors *p* is small.\n",
    "        * **Performance would be better with a flexible method. It would better fit the large sample size.**\n",
    "    2. The number of predictors *p* is extremely large and the number of observations *n* is small.\n",
    "        * **An inflexible method would be better here. A flexible method would overfit due to the small number of observations.**\n",
    "    3. The relationship between the predictors and response is highly non-linear.\n",
    "        * **A flexible method would be better here - having more degrees of freedom could better fit the non-linear nature of the data**\n",
    "     4. The variance of the error terms, i.e. $\\sigma^2 = Var(\\epsilon)$, is extremely high.\n",
    "        * **An inflexible model would be better. The high variance of the data could result in an overfitted flexible model.**\n",
    "\n",
    "\n",
    "2. Explain whether each scenario is a classification or regression problem, and indicate whether we are most interested in inference or prediction.\n",
    "    1. We collect a set of data on the top 500 firms in the US. We are interested in understanding which factors affect CEO salary.\n",
    "        * **Regression. Inference (we're concerned about the effect of factors)**\n",
    "    2. We are considering launching a new product and wish to know whether it will be a *success* or *failure*.\n",
    "        * **Classification. Prediction**\n",
    "    3. We are interested in predicting the % change in the USD/Euro exchange rate in relation to the weekly changes in the world stock markets.\n",
    "        * **Regression. Prediction**\n",
    "\n",
    "\n",
    "3. Bias-Variance decomposition\n",
    "     1. Sketch typical (squared) bias, variance, training error, test error, and Bayes (irreducible) error curves, as we go from less flexible methods to more flexible approaches.\n",
    "    2. Explain why each of the five curves has the shape displayed in part a)\n",
    "        * **(squared) bias - decreases monotonically because increases in flexibility yield a closer fit**\n",
    "        * **variance - increases monotonically because increases in flexibility yield overfit**\n",
    "        * **training error - decreases monotonically because increases in flexibility yield a closer fit**\n",
    "        * **test error - concave up curve because increase in flexibility yields a closer fit before it overfits**\n",
    "        * **Bayes (irreducible) error - defines the lower limit, the test error is bounded below by the irreducible error due to variance in the error (epsilon) in the output values (0 <= value). When the training error is lower than the irreducible error, overfitting has taken place. The Bayes error rate is defined for classification problems and is determined by the ratio of data points which lie at the 'wrong' side of the decision boundary, (0 <= value < 1).**\n",
    "\n",
    "\n",
    "5. What are the advantages and disadvantages of a very flexible vs. less flexible approach for regression or classification. Under what circumstances might a more flexible approach be preferred to a less flexible approach. When might a less flexible approach be preferred?\n",
    "    * **More flexible approach: Good for non-linear data, decreases bias. Disadvantages: requires estimating a greater number of parameters - can lead to overfitting the data, increasing variance.**\n",
    "    * **A more flexible approach would be preferred when we're concerned about prediction and non interpretability. The opposite goes for a less flexible approach.**\n",
    "\n",
    "6. Describe the difference between a parametric and non-parametric statistical learning approach. What are the advantages/disadvantages of a parametric approach to regression or classification vs. a non-parametric approach?\n",
    "    * **A parametric approach simplifies estimating f down to estimating a set of parameters that assume the form of f**\n",
    "    * **A non-parametric approach assumes to functional form for f and requires a large number of observations to accuractely estimate f**\n",
    "    * **The advantage of a parametric approach is that it simplifies modeling f to a few parameters and requires less observations, compared to non-parametric approaches**\n",
    "    * **The disadvantages of a parametric approach is that it can potentially inaccurately estimate f is the form of f assumed is incorrected or overfitted.**\n",
    "\n",
    "7. The table below provides the training data of 6 observations, three predictors, and one response variable\n",
    "\n",
    "|  X1 | X2  | X3  | Y | \n",
    "|---|---|---| --- |\n",
    "|  0 | 3  | 0  | Red |\n",
    "|  2 | 0  | 0  | Red |\n",
    "|  0 | 1  | 3  | Red |\n",
    "|  0 | 1  | 2  | Green |\n",
    "|  -1 | 0  | 1  | Green |\n",
    "|  1 | 1  | 1  | Red |\n",
    "\n",
    "Suppose we wish to use this data set to make a prediction for $Y$ when $X_1 = X_2 = X_3 = 0$\n",
    "\n",
    "* Compute the Euclidean distance between each observation and the test point, $X_1 = X_2 = X_3 = 0$\n",
    "\n",
    "|  X1 | X2  | X3  | Distance(0, 0, 0) | Y | \n",
    "|---|---|---| --- | --- |\n",
    "|  0 | 3  | 0  | 3 |  Red |\n",
    "|  2 | 0  | 0  | 2 | Red |\n",
    "|  0 | 1  | 3  | sqrt(10) ~3.2 | Red |\n",
    "|  0 | 1  | 2  | sqrt(5) ~ 2.2 | Green |\n",
    "|  -1 | 0  | 1 | sqrt(2) ~ 1.4 | Green |\n",
    "|  1 | 1  | 1  | sqrt(3) ~ 1.7 | Red |\n",
    "\n",
    "* What's our prediction with $K = 1$? Why?\n",
    "    * **Green. Observation #5 is the closest neighbor for K = 1.**\n",
    "* What's our prediction with $K = 3$? Why?\n",
    "    * **Red. Observations #2, 5, 6 are the closest neighbors for K = 3. 2 is Red, 5 is Green, and 6 is Red.**\n",
    "* If the Bayes decision boundary in this problem is highly non-linear, would we expect the *best* value for $K$ to be large or small? Why?\n",
    "    * **Small. A small $K$ leads to flexible, non-linear decision boundaries. A large $K$ would give us a more linear boundary because it takes more points into consideration.**\n",
    "\n",
    "\n",
    "## Applied\n",
    "\n",
    "8. We'll be looking at the `College` data set\n",
    "\n",
    "Read in the data"
   ]
  },
  {
   "cell_type": "code",
   "execution_count": 9,
   "metadata": {},
   "outputs": [],
   "source": [
    "library(ISLR)\n",
    "college <- College"
   ]
  },
  {
   "cell_type": "markdown",
   "metadata": {},
   "source": [
    "Look at the data using the `fix()` function. We really won't need the first column, it's just the name of the university, so remove it."
   ]
  },
  {
   "cell_type": "code",
   "execution_count": 10,
   "metadata": {},
   "outputs": [],
   "source": [
    "fix(college)"
   ]
  },
  {
   "cell_type": "markdown",
   "metadata": {},
   "source": [
    "Now we'll do some EDA\n",
    "\n",
    "Use the `summary()` function to summarizes the features"
   ]
  },
  {
   "cell_type": "code",
   "execution_count": 11,
   "metadata": {},
   "outputs": [
    {
     "data": {
      "text/plain": [
       " Private        Apps           Accept          Enroll       Top10perc    \n",
       " No :212   Min.   :   81   Min.   :   72   Min.   :  35   Min.   : 1.00  \n",
       " Yes:565   1st Qu.:  776   1st Qu.:  604   1st Qu.: 242   1st Qu.:15.00  \n",
       "           Median : 1558   Median : 1110   Median : 434   Median :23.00  \n",
       "           Mean   : 3002   Mean   : 2019   Mean   : 780   Mean   :27.56  \n",
       "           3rd Qu.: 3624   3rd Qu.: 2424   3rd Qu.: 902   3rd Qu.:35.00  \n",
       "           Max.   :48094   Max.   :26330   Max.   :6392   Max.   :96.00  \n",
       "   Top25perc      F.Undergrad     P.Undergrad         Outstate    \n",
       " Min.   :  9.0   Min.   :  139   Min.   :    1.0   Min.   : 2340  \n",
       " 1st Qu.: 41.0   1st Qu.:  992   1st Qu.:   95.0   1st Qu.: 7320  \n",
       " Median : 54.0   Median : 1707   Median :  353.0   Median : 9990  \n",
       " Mean   : 55.8   Mean   : 3700   Mean   :  855.3   Mean   :10441  \n",
       " 3rd Qu.: 69.0   3rd Qu.: 4005   3rd Qu.:  967.0   3rd Qu.:12925  \n",
       " Max.   :100.0   Max.   :31643   Max.   :21836.0   Max.   :21700  \n",
       "   Room.Board       Books           Personal         PhD        \n",
       " Min.   :1780   Min.   :  96.0   Min.   : 250   Min.   :  8.00  \n",
       " 1st Qu.:3597   1st Qu.: 470.0   1st Qu.: 850   1st Qu.: 62.00  \n",
       " Median :4200   Median : 500.0   Median :1200   Median : 75.00  \n",
       " Mean   :4358   Mean   : 549.4   Mean   :1341   Mean   : 72.66  \n",
       " 3rd Qu.:5050   3rd Qu.: 600.0   3rd Qu.:1700   3rd Qu.: 85.00  \n",
       " Max.   :8124   Max.   :2340.0   Max.   :6800   Max.   :103.00  \n",
       "    Terminal       S.F.Ratio      perc.alumni        Expend     \n",
       " Min.   : 24.0   Min.   : 2.50   Min.   : 0.00   Min.   : 3186  \n",
       " 1st Qu.: 71.0   1st Qu.:11.50   1st Qu.:13.00   1st Qu.: 6751  \n",
       " Median : 82.0   Median :13.60   Median :21.00   Median : 8377  \n",
       " Mean   : 79.7   Mean   :14.09   Mean   :22.74   Mean   : 9660  \n",
       " 3rd Qu.: 92.0   3rd Qu.:16.50   3rd Qu.:31.00   3rd Qu.:10830  \n",
       " Max.   :100.0   Max.   :39.80   Max.   :64.00   Max.   :56233  \n",
       "   Grad.Rate     \n",
       " Min.   : 10.00  \n",
       " 1st Qu.: 53.00  \n",
       " Median : 65.00  \n",
       " Mean   : 65.46  \n",
       " 3rd Qu.: 78.00  \n",
       " Max.   :118.00  "
      ]
     },
     "metadata": {},
     "output_type": "display_data"
    }
   ],
   "source": [
    "summary(college)"
   ]
  },
  {
   "cell_type": "markdown",
   "metadata": {},
   "source": [
    "Use `pairs()` to produce a scatterplot of the first 10 columns of the data"
   ]
  },
  {
   "cell_type": "code",
   "execution_count": 12,
   "metadata": {},
   "outputs": [
    {
     "data": {
      "image/png": "[encoded data removed]",
      "text/plain": [
       "plot without title"
      ]
     },
     "metadata": {
      "image/png": {
       "height": 420,
       "width": 420
      },
      "text/plain": {
       "height": 420,
       "width": 420
      }
     },
     "output_type": "display_data"
    }
   ],
   "source": [
    "pairs(college[, 1:10])"
   ]
  },
  {
   "cell_type": "markdown",
   "metadata": {},
   "source": [
    "Use the `plot()` function to produce side-by-side boxplots of `Outstate` vs. `Private`"
   ]
  },
  {
   "cell_type": "code",
   "execution_count": 13,
   "metadata": {},
   "outputs": [
    {
     "data": {
      "image/png": "[encoded data removed]",
      "text/plain": [
       "plot without title"
      ]
     },
     "metadata": {
      "image/png": {
       "height": 420,
       "width": 420
      },
      "text/plain": {
       "height": 420,
       "width": 420
      }
     },
     "output_type": "display_data"
    }
   ],
   "source": [
    "boxplot(college$Outstate, college$Private)"
   ]
  },
  {
   "cell_type": "markdown",
   "metadata": {},
   "source": [
    "Create a new qualitative variable, called `Elite`, by binning `Top10perc` variable. We are going to be dividing universities into two groups based on whether or not the proportion of students coming from the top 10% of their highschool classes exceeds 50%."
   ]
  },
  {
   "cell_type": "code",
   "execution_count": 14,
   "metadata": {},
   "outputs": [],
   "source": [
    "Elite = rep(\"No\", nrow(college))\n",
    "Elite[college$Top10perc > 50] = \"Yes\"\n",
    "Elite = as.factor(Elite)\n",
    "college = data.frame(college, Elite)"
   ]
  },
  {
   "cell_type": "markdown",
   "metadata": {},
   "source": [
    "Again, run `summary()` and then plot `Outstate` vs. `Elite`"
   ]
  },
  {
   "cell_type": "code",
   "execution_count": 15,
   "metadata": {},
   "outputs": [
    {
     "data": {
      "text/plain": [
       " Private        Apps           Accept          Enroll       Top10perc    \n",
       " No :212   Min.   :   81   Min.   :   72   Min.   :  35   Min.   : 1.00  \n",
       " Yes:565   1st Qu.:  776   1st Qu.:  604   1st Qu.: 242   1st Qu.:15.00  \n",
       "           Median : 1558   Median : 1110   Median : 434   Median :23.00  \n",
       "           Mean   : 3002   Mean   : 2019   Mean   : 780   Mean   :27.56  \n",
       "           3rd Qu.: 3624   3rd Qu.: 2424   3rd Qu.: 902   3rd Qu.:35.00  \n",
       "           Max.   :48094   Max.   :26330   Max.   :6392   Max.   :96.00  \n",
       "   Top25perc      F.Undergrad     P.Undergrad         Outstate    \n",
       " Min.   :  9.0   Min.   :  139   Min.   :    1.0   Min.   : 2340  \n",
       " 1st Qu.: 41.0   1st Qu.:  992   1st Qu.:   95.0   1st Qu.: 7320  \n",
       " Median : 54.0   Median : 1707   Median :  353.0   Median : 9990  \n",
       " Mean   : 55.8   Mean   : 3700   Mean   :  855.3   Mean   :10441  \n",
       " 3rd Qu.: 69.0   3rd Qu.: 4005   3rd Qu.:  967.0   3rd Qu.:12925  \n",
       " Max.   :100.0   Max.   :31643   Max.   :21836.0   Max.   :21700  \n",
       "   Room.Board       Books           Personal         PhD        \n",
       " Min.   :1780   Min.   :  96.0   Min.   : 250   Min.   :  8.00  \n",
       " 1st Qu.:3597   1st Qu.: 470.0   1st Qu.: 850   1st Qu.: 62.00  \n",
       " Median :4200   Median : 500.0   Median :1200   Median : 75.00  \n",
       " Mean   :4358   Mean   : 549.4   Mean   :1341   Mean   : 72.66  \n",
       " 3rd Qu.:5050   3rd Qu.: 600.0   3rd Qu.:1700   3rd Qu.: 85.00  \n",
       " Max.   :8124   Max.   :2340.0   Max.   :6800   Max.   :103.00  \n",
       "    Terminal       S.F.Ratio      perc.alumni        Expend     \n",
       " Min.   : 24.0   Min.   : 2.50   Min.   : 0.00   Min.   : 3186  \n",
       " 1st Qu.: 71.0   1st Qu.:11.50   1st Qu.:13.00   1st Qu.: 6751  \n",
       " Median : 82.0   Median :13.60   Median :21.00   Median : 8377  \n",
       " Mean   : 79.7   Mean   :14.09   Mean   :22.74   Mean   : 9660  \n",
       " 3rd Qu.: 92.0   3rd Qu.:16.50   3rd Qu.:31.00   3rd Qu.:10830  \n",
       " Max.   :100.0   Max.   :39.80   Max.   :64.00   Max.   :56233  \n",
       "   Grad.Rate      Elite    \n",
       " Min.   : 10.00   No :699  \n",
       " 1st Qu.: 53.00   Yes: 78  \n",
       " Median : 65.00            \n",
       " Mean   : 65.46            \n",
       " 3rd Qu.: 78.00            \n",
       " Max.   :118.00            "
      ]
     },
     "metadata": {},
     "output_type": "display_data"
    },
    {
     "data": {
      "image/png": "[encoded data removed]",
      "text/plain": [
       "plot without title"
      ]
     },
     "metadata": {
      "image/png": {
       "height": 420,
       "width": 420
      },
      "text/plain": {
       "height": 420,
       "width": 420
      }
     },
     "output_type": "display_data"
    }
   ],
   "source": [
    "summary(college)\n",
    "boxplot(college$Outstate, college$Elite)"
   ]
  },
  {
   "cell_type": "markdown",
   "metadata": {},
   "source": [
    "Use `hist()` to produce some histograms with differing numbers of bins for a few of the quantitative variables."
   ]
  },
  {
   "cell_type": "code",
   "execution_count": 16,
   "metadata": {},
   "outputs": [
    {
     "data": {
      "image/png": "[encoded data removed]",
      "text/plain": [
       "Plot with title \"Histogram of college$Expend\""
      ]
     },
     "metadata": {
      "image/png": {
       "height": 420,
       "width": 420
      },
      "text/plain": {
       "height": 420,
       "width": 420
      }
     },
     "output_type": "display_data"
    }
   ],
   "source": [
    "par(mfrow=c(2,2))\n",
    "hist(college$Apps)\n",
    "hist(college$perc.alumni, col=2)\n",
    "hist(college$S.F.Ratio, col=3, breaks=10)\n",
    "hist(college$Expend, breaks=100)"
   ]
  },
  {
   "cell_type": "markdown",
   "metadata": {},
   "source": [
    "9. Next, we'll look at the `Auto` data set. First, remove missing numbers."
   ]
  },
  {
   "cell_type": "code",
   "execution_count": 17,
   "metadata": {},
   "outputs": [],
   "source": [
    "auto <- Auto\n",
    "library(dplyr)\n",
    "auto = na.omit(auto)"
   ]
  },
  {
   "cell_type": "markdown",
   "metadata": {},
   "source": [
    "Which of the predictors are quantitative and which are qualitative?"
   ]
  },
  {
   "cell_type": "code",
   "execution_count": 19,
   "metadata": {},
   "outputs": [
    {
     "data": {
      "text/html": [
       "<table>\n",
       "<caption>A data.frame: 6 × 9</caption>\n",
       "<thead>\n",
       "\t<tr><th></th><th scope=col>mpg</th><th scope=col>cylinders</th><th scope=col>displacement</th><th scope=col>horsepower</th><th scope=col>weight</th><th scope=col>acceleration</th><th scope=col>year</th><th scope=col>origin</th><th scope=col>name</th></tr>\n",
       "\t<tr><th></th><th scope=col>&lt;dbl&gt;</th><th scope=col>&lt;dbl&gt;</th><th scope=col>&lt;dbl&gt;</th><th scope=col>&lt;dbl&gt;</th><th scope=col>&lt;dbl&gt;</th><th scope=col>&lt;dbl&gt;</th><th scope=col>&lt;dbl&gt;</th><th scope=col>&lt;dbl&gt;</th><th scope=col>&lt;fct&gt;</th></tr>\n",
       "</thead>\n",
       "<tbody>\n",
       "\t<tr><th scope=row>1</th><td>18</td><td>8</td><td>307</td><td>130</td><td>3504</td><td>12.0</td><td>70</td><td>1</td><td>chevrolet chevelle malibu</td></tr>\n",
       "\t<tr><th scope=row>2</th><td>15</td><td>8</td><td>350</td><td>165</td><td>3693</td><td>11.5</td><td>70</td><td>1</td><td>buick skylark 320        </td></tr>\n",
       "\t<tr><th scope=row>3</th><td>18</td><td>8</td><td>318</td><td>150</td><td>3436</td><td>11.0</td><td>70</td><td>1</td><td>plymouth satellite       </td></tr>\n",
       "\t<tr><th scope=row>4</th><td>16</td><td>8</td><td>304</td><td>150</td><td>3433</td><td>12.0</td><td>70</td><td>1</td><td>amc rebel sst            </td></tr>\n",
       "\t<tr><th scope=row>5</th><td>17</td><td>8</td><td>302</td><td>140</td><td>3449</td><td>10.5</td><td>70</td><td>1</td><td>ford torino              </td></tr>\n",
       "\t<tr><th scope=row>6</th><td>15</td><td>8</td><td>429</td><td>198</td><td>4341</td><td>10.0</td><td>70</td><td>1</td><td>ford galaxie 500         </td></tr>\n",
       "</tbody>\n",
       "</table>\n"
      ],
      "text/latex": [
       "A data.frame: 6 × 9\n",
       "\\begin{tabular}{r|lllllllll}\n",
       "  & mpg & cylinders & displacement & horsepower & weight & acceleration & year & origin & name\\\\\n",
       "  & <dbl> & <dbl> & <dbl> & <dbl> & <dbl> & <dbl> & <dbl> & <dbl> & <fct>\\\\\n",
       "\\hline\n",
       "\t1 & 18 & 8 & 307 & 130 & 3504 & 12.0 & 70 & 1 & chevrolet chevelle malibu\\\\\n",
       "\t2 & 15 & 8 & 350 & 165 & 3693 & 11.5 & 70 & 1 & buick skylark 320        \\\\\n",
       "\t3 & 18 & 8 & 318 & 150 & 3436 & 11.0 & 70 & 1 & plymouth satellite       \\\\\n",
       "\t4 & 16 & 8 & 304 & 150 & 3433 & 12.0 & 70 & 1 & amc rebel sst            \\\\\n",
       "\t5 & 17 & 8 & 302 & 140 & 3449 & 10.5 & 70 & 1 & ford torino              \\\\\n",
       "\t6 & 15 & 8 & 429 & 198 & 4341 & 10.0 & 70 & 1 & ford galaxie 500         \\\\\n",
       "\\end{tabular}\n"
      ],
      "text/markdown": [
       "\n",
       "A data.frame: 6 × 9\n",
       "\n",
       "| <!--/--> | mpg &lt;dbl&gt; | cylinders &lt;dbl&gt; | displacement &lt;dbl&gt; | horsepower &lt;dbl&gt; | weight &lt;dbl&gt; | acceleration &lt;dbl&gt; | year &lt;dbl&gt; | origin &lt;dbl&gt; | name &lt;fct&gt; |\n",
       "|---|---|---|---|---|---|---|---|---|---|\n",
       "| 1 | 18 | 8 | 307 | 130 | 3504 | 12.0 | 70 | 1 | chevrolet chevelle malibu |\n",
       "| 2 | 15 | 8 | 350 | 165 | 3693 | 11.5 | 70 | 1 | buick skylark 320         |\n",
       "| 3 | 18 | 8 | 318 | 150 | 3436 | 11.0 | 70 | 1 | plymouth satellite        |\n",
       "| 4 | 16 | 8 | 304 | 150 | 3433 | 12.0 | 70 | 1 | amc rebel sst             |\n",
       "| 5 | 17 | 8 | 302 | 140 | 3449 | 10.5 | 70 | 1 | ford torino               |\n",
       "| 6 | 15 | 8 | 429 | 198 | 4341 | 10.0 | 70 | 1 | ford galaxie 500          |\n",
       "\n"
      ],
      "text/plain": [
       "  mpg cylinders displacement horsepower weight acceleration year origin\n",
       "1 18  8         307          130        3504   12.0         70   1     \n",
       "2 15  8         350          165        3693   11.5         70   1     \n",
       "3 18  8         318          150        3436   11.0         70   1     \n",
       "4 16  8         304          150        3433   12.0         70   1     \n",
       "5 17  8         302          140        3449   10.5         70   1     \n",
       "6 15  8         429          198        4341   10.0         70   1     \n",
       "  name                     \n",
       "1 chevrolet chevelle malibu\n",
       "2 buick skylark 320        \n",
       "3 plymouth satellite       \n",
       "4 amc rebel sst            \n",
       "5 ford torino              \n",
       "6 ford galaxie 500         "
      ]
     },
     "metadata": {},
     "output_type": "display_data"
    }
   ],
   "source": [
    "head(auto)"
   ]
  },
  {
   "cell_type": "markdown",
   "metadata": {},
   "source": [
    "quantitative: mpg, cylinders, displacement, horsepower, weight, acceleration, year\n",
    "qualitative: name, origin\n",
    "\n",
    "What is the range of each quantitative predictor? Use `range()` for this. What is the mean and stdv?"
   ]
  },
  {
   "cell_type": "code",
   "execution_count": 24,
   "metadata": {},
   "outputs": [
    {
     "data": {
      "text/html": [
       "<table>\n",
       "<caption>A matrix: 2 × 7 of type dbl</caption>\n",
       "<thead>\n",
       "\t<tr><th scope=col>mpg</th><th scope=col>cylinders</th><th scope=col>displacement</th><th scope=col>horsepower</th><th scope=col>weight</th><th scope=col>acceleration</th><th scope=col>year</th></tr>\n",
       "</thead>\n",
       "<tbody>\n",
       "\t<tr><td> 9.0</td><td>3</td><td> 68</td><td> 46</td><td>1613</td><td> 8.0</td><td>70</td></tr>\n",
       "\t<tr><td>46.6</td><td>8</td><td>455</td><td>230</td><td>5140</td><td>24.8</td><td>82</td></tr>\n",
       "</tbody>\n",
       "</table>\n"
      ],
      "text/latex": [
       "A matrix: 2 × 7 of type dbl\n",
       "\\begin{tabular}{lllllll}\n",
       " mpg & cylinders & displacement & horsepower & weight & acceleration & year\\\\\n",
       "\\hline\n",
       "\t  9.0 & 3 &  68 &  46 & 1613 &  8.0 & 70\\\\\n",
       "\t 46.6 & 8 & 455 & 230 & 5140 & 24.8 & 82\\\\\n",
       "\\end{tabular}\n"
      ],
      "text/markdown": [
       "\n",
       "A matrix: 2 × 7 of type dbl\n",
       "\n",
       "| mpg | cylinders | displacement | horsepower | weight | acceleration | year |\n",
       "|---|---|---|---|---|---|---|\n",
       "|  9.0 | 3 |  68 |  46 | 1613 |  8.0 | 70 |\n",
       "| 46.6 | 8 | 455 | 230 | 5140 | 24.8 | 82 |\n",
       "\n"
      ],
      "text/plain": [
       "     mpg  cylinders displacement horsepower weight acceleration year\n",
       "[1,]  9.0 3          68           46        1613    8.0         70  \n",
       "[2,] 46.6 8         455          230        5140   24.8         82  "
      ]
     },
     "metadata": {},
     "output_type": "display_data"
    },
    {
     "data": {
      "text/html": [
       "<dl class=dl-horizontal>\n",
       "\t<dt>mpg</dt>\n",
       "\t\t<dd>23.4459183673469</dd>\n",
       "\t<dt>cylinders</dt>\n",
       "\t\t<dd>5.4719387755102</dd>\n",
       "\t<dt>displacement</dt>\n",
       "\t\t<dd>194.411989795918</dd>\n",
       "\t<dt>horsepower</dt>\n",
       "\t\t<dd>104.469387755102</dd>\n",
       "\t<dt>weight</dt>\n",
       "\t\t<dd>2977.58418367347</dd>\n",
       "\t<dt>acceleration</dt>\n",
       "\t\t<dd>15.5413265306122</dd>\n",
       "\t<dt>year</dt>\n",
       "\t\t<dd>75.9795918367347</dd>\n",
       "</dl>\n"
      ],
      "text/latex": [
       "\\begin{description*}\n",
       "\\item[mpg] 23.4459183673469\n",
       "\\item[cylinders] 5.4719387755102\n",
       "\\item[displacement] 194.411989795918\n",
       "\\item[horsepower] 104.469387755102\n",
       "\\item[weight] 2977.58418367347\n",
       "\\item[acceleration] 15.5413265306122\n",
       "\\item[year] 75.9795918367347\n",
       "\\end{description*}\n"
      ],
      "text/markdown": [
       "mpg\n",
       ":   23.4459183673469cylinders\n",
       ":   5.4719387755102displacement\n",
       ":   194.411989795918horsepower\n",
       ":   104.469387755102weight\n",
       ":   2977.58418367347acceleration\n",
       ":   15.5413265306122year\n",
       ":   75.9795918367347\n",
       "\n"
      ],
      "text/plain": [
       "         mpg    cylinders displacement   horsepower       weight acceleration \n",
       "   23.445918     5.471939   194.411990   104.469388  2977.584184    15.541327 \n",
       "        year \n",
       "   75.979592 "
      ]
     },
     "metadata": {},
     "output_type": "display_data"
    },
    {
     "data": {
      "text/html": [
       "<dl class=dl-horizontal>\n",
       "\t<dt>mpg</dt>\n",
       "\t\t<dd>7.8050074865718</dd>\n",
       "\t<dt>cylinders</dt>\n",
       "\t\t<dd>1.70578324745278</dd>\n",
       "\t<dt>displacement</dt>\n",
       "\t\t<dd>104.644003908905</dd>\n",
       "\t<dt>horsepower</dt>\n",
       "\t\t<dd>38.4911599328285</dd>\n",
       "\t<dt>weight</dt>\n",
       "\t\t<dd>849.402560042949</dd>\n",
       "\t<dt>acceleration</dt>\n",
       "\t\t<dd>2.75886411918808</dd>\n",
       "\t<dt>year</dt>\n",
       "\t\t<dd>3.68373654357783</dd>\n",
       "</dl>\n"
      ],
      "text/latex": [
       "\\begin{description*}\n",
       "\\item[mpg] 7.8050074865718\n",
       "\\item[cylinders] 1.70578324745278\n",
       "\\item[displacement] 104.644003908905\n",
       "\\item[horsepower] 38.4911599328285\n",
       "\\item[weight] 849.402560042949\n",
       "\\item[acceleration] 2.75886411918808\n",
       "\\item[year] 3.68373654357783\n",
       "\\end{description*}\n"
      ],
      "text/markdown": [
       "mpg\n",
       ":   7.8050074865718cylinders\n",
       ":   1.70578324745278displacement\n",
       ":   104.644003908905horsepower\n",
       ":   38.4911599328285weight\n",
       ":   849.402560042949acceleration\n",
       ":   2.75886411918808year\n",
       ":   3.68373654357783\n",
       "\n"
      ],
      "text/plain": [
       "         mpg    cylinders displacement   horsepower       weight acceleration \n",
       "    7.805007     1.705783   104.644004    38.491160   849.402560     2.758864 \n",
       "        year \n",
       "    3.683737 "
      ]
     },
     "metadata": {},
     "output_type": "display_data"
    }
   ],
   "source": [
    "sapply(auto[, 1:7], range)\n",
    "sapply(auto[, 1:7], mean)\n",
    "sapply(auto[, 1:7], sd)"
   ]
  },
  {
   "cell_type": "code",
   "execution_count": 23,
   "metadata": {},
   "outputs": [
    {
     "data": {
      "text/html": [
       "<table>\n",
       "<caption>A matrix: 3 × 7</caption>\n",
       "<thead>\n",
       "\t<tr><th scope=col>mpg</th><th scope=col>cylinders</th><th scope=col>displacement</th><th scope=col>horsepower</th><th scope=col>weight</th><th scope=col>acceleration</th><th scope=col>year</th></tr>\n",
       "\t<tr><th scope=col>&lt;dbl&gt;</th><th scope=col>&lt;dbl&gt;</th><th scope=col>&lt;dbl&gt;</th><th scope=col>&lt;dbl&gt;</th><th scope=col>&lt;dbl&gt;</th><th scope=col>&lt;dbl&gt;</th><th scope=col>&lt;dbl&gt;</th><th scope=col>&lt;dbl&gt;</th><th scope=col>&lt;dbl&gt;</th><th scope=col>&lt;dbl&gt;</th><th scope=col>...</th><th scope=col>&lt;dbl&gt;</th><th scope=col>&lt;dbl&gt;</th><th scope=col>&lt;dbl&gt;</th><th scope=col>&lt;dbl&gt;</th><th scope=col>&lt;dbl&gt;</th><th scope=col>&lt;dbl&gt;</th><th scope=col>&lt;dbl&gt;</th><th scope=col>&lt;dbl&gt;</th><th scope=col>&lt;dbl&gt;</th><th scope=col>&lt;dbl&gt;</th></tr>\n",
       "</thead>\n",
       "<tbody>\n",
       "\t<tr><td>9190.8</td><td>2145</td><td>76209.5</td><td>40952</td><td>1167213</td><td>6092.2</td><td>29784</td></tr>\n",
       "\t<tr><td>23.44592</td><td>5.471939</td><td>194.412</td><td>104.4694</td><td>2977.584</td><td>15.54133</td><td>75.97959</td></tr>\n",
       "\t<tr><td>7.805007</td><td>1.705783</td><td>104.644</td><td>38.49116</td><td>849.4026</td><td>2.758864</td><td>3.683737</td></tr>\n",
       "</tbody>\n",
       "</table>\n"
      ],
      "text/latex": [
       "A matrix: 3 × 7\n",
       "\\begin{tabular}{lllllll}\n",
       " mpg & cylinders & displacement & horsepower & weight & acceleration & year\\\\\n",
       " <dbl> & <dbl> & <dbl> & <dbl> & <dbl> & <dbl> & <dbl> & <dbl> & <dbl> & <dbl> & ... & <dbl> & <dbl> & <dbl> & <dbl> & <dbl> & <dbl> & <dbl> & <dbl> & <dbl> & <dbl>\\\\\n",
       "\\hline\n",
       "\t 9190.8 & 2145 & 76209.5 & 40952 & 1167213 & 6092.2 & 29784\\\\\n",
       "\t 23.44592 & 5.471939 & 194.412 & 104.4694 & 2977.584 & 15.54133 & 75.97959\\\\\n",
       "\t 7.805007 & 1.705783 & 104.644 & 38.49116 & 849.4026 & 2.758864 & 3.683737\\\\\n",
       "\\end{tabular}\n"
      ],
      "text/markdown": [
       "\n",
       "A matrix: 3 × 7\n",
       "\n",
       "| mpg &lt;dbl&gt; | cylinders &lt;dbl&gt; | displacement &lt;dbl&gt; | horsepower &lt;dbl&gt; | weight &lt;dbl&gt; | acceleration &lt;dbl&gt; | year &lt;dbl&gt; | mpg &lt;dbl&gt; | cylinders &lt;dbl&gt; | displacement &lt;dbl&gt; | horsepower ... | weight &lt;dbl&gt; | acceleration &lt;dbl&gt; | year &lt;dbl&gt; | mpg &lt;dbl&gt; | cylinders &lt;dbl&gt; | displacement &lt;dbl&gt; | horsepower &lt;dbl&gt; | weight &lt;dbl&gt; | acceleration &lt;dbl&gt; | year &lt;dbl&gt; |\n",
       "|---|---|---|---|---|---|---|\n",
       "| 9190.8 | 2145 | 76209.5 | 40952 | 1167213 | 6092.2 | 29784 |\n",
       "| 23.44592 | 5.471939 | 194.412 | 104.4694 | 2977.584 | 15.54133 | 75.97959 |\n",
       "| 7.805007 | 1.705783 | 104.644 | 38.49116 | 849.4026 | 2.758864 | 3.683737 |\n",
       "\n"
      ],
      "text/plain": [
       "     mpg      cylinders displacement horsepower weight   acceleration year    \n",
       "[1,] 9190.8   2145      76209.5      40952      1167213  6092.2       29784   \n",
       "[2,] 23.44592 5.471939  194.412      104.4694   2977.584 15.54133     75.97959\n",
       "[3,] 7.805007 1.705783  104.644      38.49116   849.4026 2.758864     3.683737"
      ]
     },
     "metadata": {},
     "output_type": "display_data"
    }
   ],
   "source": []
  },
  {
   "cell_type": "markdown",
   "metadata": {},
   "source": [
    "Remove the 10th through 85th element of the data - recalc the mean and sd"
   ]
  },
  {
   "cell_type": "code",
   "execution_count": 26,
   "metadata": {},
   "outputs": [
    {
     "data": {
      "text/html": [
       "<ol class=list-inline>\n",
       "\t<li>TRUE</li>\n",
       "\t<li>TRUE</li>\n",
       "</ol>\n"
      ],
      "text/latex": [
       "\\begin{enumerate*}\n",
       "\\item TRUE\n",
       "\\item TRUE\n",
       "\\end{enumerate*}\n"
      ],
      "text/markdown": [
       "1. TRUE\n",
       "2. TRUE\n",
       "\n",
       "\n"
      ],
      "text/plain": [
       "[1] TRUE TRUE"
      ]
     },
     "metadata": {},
     "output_type": "display_data"
    },
    {
     "data": {
      "text/html": [
       "<table>\n",
       "<caption>A matrix: 1 × 9 of type lgl</caption>\n",
       "<thead>\n",
       "\t<tr><th></th><th scope=col>mpg</th><th scope=col>cylinders</th><th scope=col>displacement</th><th scope=col>horsepower</th><th scope=col>weight</th><th scope=col>acceleration</th><th scope=col>year</th><th scope=col>origin</th><th scope=col>name</th></tr>\n",
       "</thead>\n",
       "<tbody>\n",
       "\t<tr><th scope=row>9</th><td>TRUE</td><td>TRUE</td><td>TRUE</td><td>TRUE</td><td>TRUE</td><td>TRUE</td><td>TRUE</td><td>TRUE</td><td>TRUE</td></tr>\n",
       "</tbody>\n",
       "</table>\n"
      ],
      "text/latex": [
       "A matrix: 1 × 9 of type lgl\n",
       "\\begin{tabular}{r|lllllllll}\n",
       "  & mpg & cylinders & displacement & horsepower & weight & acceleration & year & origin & name\\\\\n",
       "\\hline\n",
       "\t9 & TRUE & TRUE & TRUE & TRUE & TRUE & TRUE & TRUE & TRUE & TRUE\\\\\n",
       "\\end{tabular}\n"
      ],
      "text/markdown": [
       "\n",
       "A matrix: 1 × 9 of type lgl\n",
       "\n",
       "| <!--/--> | mpg | cylinders | displacement | horsepower | weight | acceleration | year | origin | name |\n",
       "|---|---|---|---|---|---|---|---|---|---|\n",
       "| 9 | TRUE | TRUE | TRUE | TRUE | TRUE | TRUE | TRUE | TRUE | TRUE |\n",
       "\n"
      ],
      "text/plain": [
       "  mpg  cylinders displacement horsepower weight acceleration year origin name\n",
       "9 TRUE TRUE      TRUE         TRUE       TRUE   TRUE         TRUE TRUE   TRUE"
      ]
     },
     "metadata": {},
     "output_type": "display_data"
    },
    {
     "data": {
      "text/html": [
       "<table>\n",
       "<caption>A matrix: 1 × 9 of type lgl</caption>\n",
       "<thead>\n",
       "\t<tr><th></th><th scope=col>mpg</th><th scope=col>cylinders</th><th scope=col>displacement</th><th scope=col>horsepower</th><th scope=col>weight</th><th scope=col>acceleration</th><th scope=col>year</th><th scope=col>origin</th><th scope=col>name</th></tr>\n",
       "</thead>\n",
       "<tbody>\n",
       "\t<tr><th scope=row>87</th><td>TRUE</td><td>TRUE</td><td>TRUE</td><td>TRUE</td><td>TRUE</td><td>TRUE</td><td>TRUE</td><td>TRUE</td><td>TRUE</td></tr>\n",
       "</tbody>\n",
       "</table>\n"
      ],
      "text/latex": [
       "A matrix: 1 × 9 of type lgl\n",
       "\\begin{tabular}{r|lllllllll}\n",
       "  & mpg & cylinders & displacement & horsepower & weight & acceleration & year & origin & name\\\\\n",
       "\\hline\n",
       "\t87 & TRUE & TRUE & TRUE & TRUE & TRUE & TRUE & TRUE & TRUE & TRUE\\\\\n",
       "\\end{tabular}\n"
      ],
      "text/markdown": [
       "\n",
       "A matrix: 1 × 9 of type lgl\n",
       "\n",
       "| <!--/--> | mpg | cylinders | displacement | horsepower | weight | acceleration | year | origin | name |\n",
       "|---|---|---|---|---|---|---|---|---|---|\n",
       "| 87 | TRUE | TRUE | TRUE | TRUE | TRUE | TRUE | TRUE | TRUE | TRUE |\n",
       "\n"
      ],
      "text/plain": [
       "   mpg  cylinders displacement horsepower weight acceleration year origin name\n",
       "87 TRUE TRUE      TRUE         TRUE       TRUE   TRUE         TRUE TRUE   TRUE"
      ]
     },
     "metadata": {},
     "output_type": "display_data"
    },
    {
     "data": {
      "text/html": [
       "<dl class=dl-horizontal>\n",
       "\t<dt>mpg</dt>\n",
       "\t\t<dd>24.4044303797468</dd>\n",
       "\t<dt>cylinders</dt>\n",
       "\t\t<dd>5.37341772151899</dd>\n",
       "\t<dt>displacement</dt>\n",
       "\t\t<dd>187.240506329114</dd>\n",
       "\t<dt>horsepower</dt>\n",
       "\t\t<dd>100.721518987342</dd>\n",
       "\t<dt>weight</dt>\n",
       "\t\t<dd>2935.97151898734</dd>\n",
       "\t<dt>acceleration</dt>\n",
       "\t\t<dd>15.7268987341772</dd>\n",
       "\t<dt>year</dt>\n",
       "\t\t<dd>77.1455696202532</dd>\n",
       "</dl>\n"
      ],
      "text/latex": [
       "\\begin{description*}\n",
       "\\item[mpg] 24.4044303797468\n",
       "\\item[cylinders] 5.37341772151899\n",
       "\\item[displacement] 187.240506329114\n",
       "\\item[horsepower] 100.721518987342\n",
       "\\item[weight] 2935.97151898734\n",
       "\\item[acceleration] 15.7268987341772\n",
       "\\item[year] 77.1455696202532\n",
       "\\end{description*}\n"
      ],
      "text/markdown": [
       "mpg\n",
       ":   24.4044303797468cylinders\n",
       ":   5.37341772151899displacement\n",
       ":   187.240506329114horsepower\n",
       ":   100.721518987342weight\n",
       ":   2935.97151898734acceleration\n",
       ":   15.7268987341772year\n",
       ":   77.1455696202532\n",
       "\n"
      ],
      "text/plain": [
       "         mpg    cylinders displacement   horsepower       weight acceleration \n",
       "   24.404430     5.373418   187.240506   100.721519  2935.971519    15.726899 \n",
       "        year \n",
       "   77.145570 "
      ]
     },
     "metadata": {},
     "output_type": "display_data"
    },
    {
     "data": {
      "text/html": [
       "<dl class=dl-horizontal>\n",
       "\t<dt>mpg</dt>\n",
       "\t\t<dd>7.86728282443069</dd>\n",
       "\t<dt>cylinders</dt>\n",
       "\t\t<dd>1.65417865185607</dd>\n",
       "\t<dt>displacement</dt>\n",
       "\t\t<dd>99.6783672303628</dd>\n",
       "\t<dt>horsepower</dt>\n",
       "\t\t<dd>35.7088532738003</dd>\n",
       "\t<dt>weight</dt>\n",
       "\t\t<dd>811.30020815829</dd>\n",
       "\t<dt>acceleration</dt>\n",
       "\t\t<dd>2.69372071752036</dd>\n",
       "\t<dt>year</dt>\n",
       "\t\t<dd>3.10621690872137</dd>\n",
       "</dl>\n"
      ],
      "text/latex": [
       "\\begin{description*}\n",
       "\\item[mpg] 7.86728282443069\n",
       "\\item[cylinders] 1.65417865185607\n",
       "\\item[displacement] 99.6783672303628\n",
       "\\item[horsepower] 35.7088532738003\n",
       "\\item[weight] 811.30020815829\n",
       "\\item[acceleration] 2.69372071752036\n",
       "\\item[year] 3.10621690872137\n",
       "\\end{description*}\n"
      ],
      "text/markdown": [
       "mpg\n",
       ":   7.86728282443069cylinders\n",
       ":   1.65417865185607displacement\n",
       ":   99.6783672303628horsepower\n",
       ":   35.7088532738003weight\n",
       ":   811.30020815829acceleration\n",
       ":   2.69372071752036year\n",
       ":   3.10621690872137\n",
       "\n"
      ],
      "text/plain": [
       "         mpg    cylinders displacement   horsepower       weight acceleration \n",
       "    7.867283     1.654179    99.678367    35.708853   811.300208     2.693721 \n",
       "        year \n",
       "    3.106217 "
      ]
     },
     "metadata": {},
     "output_type": "display_data"
    }
   ],
   "source": [
    "newAuto = auto[-(10:85), ]\n",
    "dim(newAuto) == dim(auto) - c(76,0)\n",
    "newAuto[9,] == auto[9,]\n",
    "newAuto[10,] == auto[86,]\n",
    "\n",
    "sapply(newAuto[, 1:7], mean)\n",
    "sapply(newAuto[, 1:7], sd)"
   ]
  },
  {
   "cell_type": "markdown",
   "metadata": {},
   "source": [
    "Investigate the full data set"
   ]
  },
  {
   "cell_type": "code",
   "execution_count": 28,
   "metadata": {},
   "outputs": [
    {
     "data": {
      "image/png": "[encoded data removed]",
      "text/plain": [
       "plot without title"
      ]
     },
     "metadata": {
      "image/png": {
       "height": 420,
       "width": 420
      },
      "text/plain": {
       "height": 420,
       "width": 420
      }
     },
     "output_type": "display_data"
    },
    {
     "data": {
      "image/png": "[encoded data removed]",
      "text/plain": [
       "plot without title"
      ]
     },
     "metadata": {
      "image/png": {
       "height": 420,
       "width": 420
      },
      "text/plain": {
       "height": 420,
       "width": 420
      }
     },
     "output_type": "display_data"
    },
    {
     "data": {
      "image/png": "[encoded data removed]",
      "text/plain": [
       "plot without title"
      ]
     },
     "metadata": {
      "image/png": {
       "height": 420,
       "width": 420
      },
      "text/plain": {
       "height": 420,
       "width": 420
      }
     },
     "output_type": "display_data"
    },
    {
     "data": {
      "image/png": "[encoded data removed]",
      "text/plain": [
       "plot without title"
      ]
     },
     "metadata": {
      "image/png": {
       "height": 420,
       "width": 420
      },
      "text/plain": {
       "height": 420,
       "width": 420
      }
     },
     "output_type": "display_data"
    }
   ],
   "source": [
    "pairs(auto)\n",
    "plot(auto$mpg, auto$weight)\n",
    "plot(auto$mpg, auto$cylinders)\n",
    "plot(auto$mpg, auto$year)"
   ]
  },
  {
   "cell_type": "markdown",
   "metadata": {},
   "source": [
    "Heavier weight correlates with lower mpg.\n",
    "More cylinders, less mpg.\n",
    "Cars become more efficient over time."
   ]
  },
  {
   "cell_type": "markdown",
   "metadata": {},
   "source": [
    "10. Now we look at the `Boston` housing data set\n",
    "\n",
    "Load in the data, its in the `MASS` library. How many cols/rows does it have, what do they represent?"
   ]
  },
  {
   "cell_type": "code",
   "execution_count": 30,
   "metadata": {},
   "outputs": [
    {
     "name": "stderr",
     "output_type": "stream",
     "text": [
      "Installing package into 'C:/Users/jfields/Documents/R/win-library/3.6'\n",
      "(as 'lib' is unspecified)\n",
      "\n",
      "Warning message:\n",
      "\"package 'MASS' is in use and will not be installed\"\n"
     ]
    },
    {
     "data": {
      "text/html": [
       "<ol class=list-inline>\n",
       "\t<li>506</li>\n",
       "\t<li>14</li>\n",
       "</ol>\n"
      ],
      "text/latex": [
       "\\begin{enumerate*}\n",
       "\\item 506\n",
       "\\item 14\n",
       "\\end{enumerate*}\n"
      ],
      "text/markdown": [
       "1. 506\n",
       "2. 14\n",
       "\n",
       "\n"
      ],
      "text/plain": [
       "[1] 506  14"
      ]
     },
     "metadata": {},
     "output_type": "display_data"
    }
   ],
   "source": [
    "install.packages(\"MASS\")\n",
    "library(MASS)\n",
    "boston <- Boston\n",
    "dim(boston)\n",
    "?Boston"
   ]
  },
  {
   "cell_type": "code",
   "execution_count": null,
   "metadata": {},
   "outputs": [],
   "source": [
    "Make some pairwise plots of the data"
   ]
  },
  {
   "cell_type": "code",
   "execution_count": null,
   "metadata": {},
   "outputs": [],
   "source": [
    "plot(boston$age, boston$crim)\n",
    "plot(boston$dis, boston$crim)\n",
    "plot(boston$rad, boston$crim)\n",
    "plot(boston$tax, boston$crim)\n",
    "plot(boston$ptratio, boston$crim)"
   ]
  },
  {
   "cell_type": "markdown",
   "metadata": {},
   "source": [
    "Older homes, more crime. Closer to work-area, more crime. Higher index of accessibility to radial highways, more crime. Higher tax rate, more crime. Higher pupil:teacher ratio, more crime.\n",
    "\n",
    "Are any of the predictors associated with per capita crime rate?"
   ]
  },
  {
   "cell_type": "code",
   "execution_count": 31,
   "metadata": {},
   "outputs": [
    {
     "name": "stderr",
     "output_type": "stream",
     "text": [
      "Installing package into 'C:/Users/jfields/Documents/R/win-library/3.6'\n",
      "(as 'lib' is unspecified)\n",
      "\n",
      "Warning message:\n",
      "\"package 'corrr' is in use and will not be installed\"\n",
      "\n",
      "Correlation method: 'pearson'\n",
      "Missing treated using: 'pairwise.complete.obs'\n",
      "\n",
      "\n"
     ]
    },
    {
     "data": {
      "text/html": [
       "<table>\n",
       "<caption>A tibble: 13 × 2</caption>\n",
       "<thead>\n",
       "\t<tr><th scope=col>rowname</th><th scope=col>crim</th></tr>\n",
       "\t<tr><th scope=col>&lt;chr&gt;</th><th scope=col>&lt;dbl&gt;</th></tr>\n",
       "</thead>\n",
       "<tbody>\n",
       "\t<tr><td>zn     </td><td>-0.20046922</td></tr>\n",
       "\t<tr><td>indus  </td><td> 0.40658341</td></tr>\n",
       "\t<tr><td>chas   </td><td>-0.05589158</td></tr>\n",
       "\t<tr><td>nox    </td><td> 0.42097171</td></tr>\n",
       "\t<tr><td>rm     </td><td>-0.21924670</td></tr>\n",
       "\t<tr><td>age    </td><td> 0.35273425</td></tr>\n",
       "\t<tr><td>dis    </td><td>-0.37967009</td></tr>\n",
       "\t<tr><td>rad    </td><td> 0.62550515</td></tr>\n",
       "\t<tr><td>tax    </td><td> 0.58276431</td></tr>\n",
       "\t<tr><td>ptratio</td><td> 0.28994558</td></tr>\n",
       "\t<tr><td>black  </td><td>-0.38506394</td></tr>\n",
       "\t<tr><td>lstat  </td><td> 0.45562148</td></tr>\n",
       "\t<tr><td>medv   </td><td>-0.38830461</td></tr>\n",
       "</tbody>\n",
       "</table>\n"
      ],
      "text/latex": [
       "A tibble: 13 × 2\n",
       "\\begin{tabular}{ll}\n",
       " rowname & crim\\\\\n",
       " <chr> & <dbl>\\\\\n",
       "\\hline\n",
       "\t zn      & -0.20046922\\\\\n",
       "\t indus   &  0.40658341\\\\\n",
       "\t chas    & -0.05589158\\\\\n",
       "\t nox     &  0.42097171\\\\\n",
       "\t rm      & -0.21924670\\\\\n",
       "\t age     &  0.35273425\\\\\n",
       "\t dis     & -0.37967009\\\\\n",
       "\t rad     &  0.62550515\\\\\n",
       "\t tax     &  0.58276431\\\\\n",
       "\t ptratio &  0.28994558\\\\\n",
       "\t black   & -0.38506394\\\\\n",
       "\t lstat   &  0.45562148\\\\\n",
       "\t medv    & -0.38830461\\\\\n",
       "\\end{tabular}\n"
      ],
      "text/markdown": [
       "\n",
       "A tibble: 13 × 2\n",
       "\n",
       "| rowname &lt;chr&gt; | crim &lt;dbl&gt; |\n",
       "|---|---|\n",
       "| zn      | -0.20046922 |\n",
       "| indus   |  0.40658341 |\n",
       "| chas    | -0.05589158 |\n",
       "| nox     |  0.42097171 |\n",
       "| rm      | -0.21924670 |\n",
       "| age     |  0.35273425 |\n",
       "| dis     | -0.37967009 |\n",
       "| rad     |  0.62550515 |\n",
       "| tax     |  0.58276431 |\n",
       "| ptratio |  0.28994558 |\n",
       "| black   | -0.38506394 |\n",
       "| lstat   |  0.45562148 |\n",
       "| medv    | -0.38830461 |\n",
       "\n"
      ],
      "text/plain": [
       "   rowname crim       \n",
       "1  zn      -0.20046922\n",
       "2  indus    0.40658341\n",
       "3  chas    -0.05589158\n",
       "4  nox      0.42097171\n",
       "5  rm      -0.21924670\n",
       "6  age      0.35273425\n",
       "7  dis     -0.37967009\n",
       "8  rad      0.62550515\n",
       "9  tax      0.58276431\n",
       "10 ptratio  0.28994558\n",
       "11 black   -0.38506394\n",
       "12 lstat    0.45562148\n",
       "13 medv    -0.38830461"
      ]
     },
     "metadata": {},
     "output_type": "display_data"
    }
   ],
   "source": [
    "install.packages(\"corrr\")\n",
    "library(corrr)\n",
    "boston %>% correlate() %>% focus(crim)"
   ]
  },
  {
   "cell_type": "markdown",
   "metadata": {},
   "source": [
    "`rad` and `tax` have the highest positive correlation.\n",
    "\n",
    "Do any suburbs have particularly high crime rates? Tax rates? Pupil-teacher ratios?"
   ]
  },
  {
   "cell_type": "code",
   "execution_count": 32,
   "metadata": {},
   "outputs": [
    {
     "data": {
      "image/png": "[encoded data removed]",
      "text/plain": [
       "Plot with title \"Histogram of boston$ptratio\""
      ]
     },
     "metadata": {
      "image/png": {
       "height": 420,
       "width": 420
      },
      "text/plain": {
       "height": 420,
       "width": 420
      }
     },
     "output_type": "display_data"
    }
   ],
   "source": [
    "par(mfrow=c(1,3))\n",
    "hist(boston$crim[boston$crim > 1], breaks=25)\n",
    "hist(boston$tax, breaks=25)\n",
    "hist(boston$ptratio, breaks=25)"
   ]
  },
  {
   "cell_type": "markdown",
   "metadata": {},
   "source": [
    "Most cities have low crime rates, but there is a long tail: 18 suburbs appear to have a crime rate > 20, reaching to above 80.\n",
    "\n",
    "There is a large divide between suburbs with low tax rates and a peak at 660-680\n",
    "\n",
    "A skew towards high ratios, but no particularly high ratios.\n",
    "\n",
    "How many of the suburbs in this data set bound the Charles river?"
   ]
  },
  {
   "cell_type": "code",
   "execution_count": 33,
   "metadata": {},
   "outputs": [
    {
     "data": {
      "text/html": [
       "<ol class=list-inline>\n",
       "\t<li>35</li>\n",
       "\t<li>14</li>\n",
       "</ol>\n"
      ],
      "text/latex": [
       "\\begin{enumerate*}\n",
       "\\item 35\n",
       "\\item 14\n",
       "\\end{enumerate*}\n"
      ],
      "text/markdown": [
       "1. 35\n",
       "2. 14\n",
       "\n",
       "\n"
      ],
      "text/plain": [
       "[1] 35 14"
      ]
     },
     "metadata": {},
     "output_type": "display_data"
    }
   ],
   "source": [
    "dim(subset(boston, chas == 1))"
   ]
  },
  {
   "cell_type": "markdown",
   "metadata": {},
   "source": [
    "What's the median pupil-teacher ratio?"
   ]
  },
  {
   "cell_type": "code",
   "execution_count": 34,
   "metadata": {},
   "outputs": [
    {
     "data": {
      "text/html": [
       "19.05"
      ],
      "text/latex": [
       "19.05"
      ],
      "text/markdown": [
       "19.05"
      ],
      "text/plain": [
       "[1] 19.05"
      ]
     },
     "metadata": {},
     "output_type": "display_data"
    }
   ],
   "source": [
    "median(boston$ptratio)"
   ]
  },
  {
   "cell_type": "markdown",
   "metadata": {},
   "source": [
    "Which suburb has the lowest median value of owner-occupied homes?"
   ]
  },
  {
   "cell_type": "code",
   "execution_count": 35,
   "metadata": {},
   "outputs": [
    {
     "data": {
      "text/html": [
       "<table>\n",
       "<caption>A matrix: 14 × 2 of type dbl</caption>\n",
       "<thead>\n",
       "\t<tr><th></th><th scope=col>399</th><th scope=col>406</th></tr>\n",
       "</thead>\n",
       "<tbody>\n",
       "\t<tr><th scope=row>crim</th><td> 38.3518</td><td> 67.9208</td></tr>\n",
       "\t<tr><th scope=row>zn</th><td>  0.0000</td><td>  0.0000</td></tr>\n",
       "\t<tr><th scope=row>indus</th><td> 18.1000</td><td> 18.1000</td></tr>\n",
       "\t<tr><th scope=row>chas</th><td>  0.0000</td><td>  0.0000</td></tr>\n",
       "\t<tr><th scope=row>nox</th><td>  0.6930</td><td>  0.6930</td></tr>\n",
       "\t<tr><th scope=row>rm</th><td>  5.4530</td><td>  5.6830</td></tr>\n",
       "\t<tr><th scope=row>age</th><td>100.0000</td><td>100.0000</td></tr>\n",
       "\t<tr><th scope=row>dis</th><td>  1.4896</td><td>  1.4254</td></tr>\n",
       "\t<tr><th scope=row>rad</th><td> 24.0000</td><td> 24.0000</td></tr>\n",
       "\t<tr><th scope=row>tax</th><td>666.0000</td><td>666.0000</td></tr>\n",
       "\t<tr><th scope=row>ptratio</th><td> 20.2000</td><td> 20.2000</td></tr>\n",
       "\t<tr><th scope=row>black</th><td>396.9000</td><td>384.9700</td></tr>\n",
       "\t<tr><th scope=row>lstat</th><td> 30.5900</td><td> 22.9800</td></tr>\n",
       "\t<tr><th scope=row>medv</th><td>  5.0000</td><td>  5.0000</td></tr>\n",
       "</tbody>\n",
       "</table>\n"
      ],
      "text/latex": [
       "A matrix: 14 × 2 of type dbl\n",
       "\\begin{tabular}{r|ll}\n",
       "  & 399 & 406\\\\\n",
       "\\hline\n",
       "\tcrim &  38.3518 &  67.9208\\\\\n",
       "\tzn &   0.0000 &   0.0000\\\\\n",
       "\tindus &  18.1000 &  18.1000\\\\\n",
       "\tchas &   0.0000 &   0.0000\\\\\n",
       "\tnox &   0.6930 &   0.6930\\\\\n",
       "\trm &   5.4530 &   5.6830\\\\\n",
       "\tage & 100.0000 & 100.0000\\\\\n",
       "\tdis &   1.4896 &   1.4254\\\\\n",
       "\trad &  24.0000 &  24.0000\\\\\n",
       "\ttax & 666.0000 & 666.0000\\\\\n",
       "\tptratio &  20.2000 &  20.2000\\\\\n",
       "\tblack & 396.9000 & 384.9700\\\\\n",
       "\tlstat &  30.5900 &  22.9800\\\\\n",
       "\tmedv &   5.0000 &   5.0000\\\\\n",
       "\\end{tabular}\n"
      ],
      "text/markdown": [
       "\n",
       "A matrix: 14 × 2 of type dbl\n",
       "\n",
       "| <!--/--> | 399 | 406 |\n",
       "|---|---|---|\n",
       "| crim |  38.3518 |  67.9208 |\n",
       "| zn |   0.0000 |   0.0000 |\n",
       "| indus |  18.1000 |  18.1000 |\n",
       "| chas |   0.0000 |   0.0000 |\n",
       "| nox |   0.6930 |   0.6930 |\n",
       "| rm |   5.4530 |   5.6830 |\n",
       "| age | 100.0000 | 100.0000 |\n",
       "| dis |   1.4896 |   1.4254 |\n",
       "| rad |  24.0000 |  24.0000 |\n",
       "| tax | 666.0000 | 666.0000 |\n",
       "| ptratio |  20.2000 |  20.2000 |\n",
       "| black | 396.9000 | 384.9700 |\n",
       "| lstat |  30.5900 |  22.9800 |\n",
       "| medv |   5.0000 |   5.0000 |\n",
       "\n"
      ],
      "text/plain": [
       "        399      406     \n",
       "crim     38.3518  67.9208\n",
       "zn        0.0000   0.0000\n",
       "indus    18.1000  18.1000\n",
       "chas      0.0000   0.0000\n",
       "nox       0.6930   0.6930\n",
       "rm        5.4530   5.6830\n",
       "age     100.0000 100.0000\n",
       "dis       1.4896   1.4254\n",
       "rad      24.0000  24.0000\n",
       "tax     666.0000 666.0000\n",
       "ptratio  20.2000  20.2000\n",
       "black   396.9000 384.9700\n",
       "lstat    30.5900  22.9800\n",
       "medv      5.0000   5.0000"
      ]
     },
     "metadata": {},
     "output_type": "display_data"
    }
   ],
   "source": [
    "t(subset(boston, medv == min(Boston$medv)))"
   ]
  },
  {
   "cell_type": "markdown",
   "metadata": {},
   "source": [
    "How many suburbs average more than 7 rooms per dwelling? 8?"
   ]
  },
  {
   "cell_type": "code",
   "execution_count": 36,
   "metadata": {},
   "outputs": [
    {
     "data": {
      "text/html": [
       "<ol class=list-inline>\n",
       "\t<li>64</li>\n",
       "\t<li>14</li>\n",
       "</ol>\n"
      ],
      "text/latex": [
       "\\begin{enumerate*}\n",
       "\\item 64\n",
       "\\item 14\n",
       "\\end{enumerate*}\n"
      ],
      "text/markdown": [
       "1. 64\n",
       "2. 14\n",
       "\n",
       "\n"
      ],
      "text/plain": [
       "[1] 64 14"
      ]
     },
     "metadata": {},
     "output_type": "display_data"
    },
    {
     "data": {
      "text/html": [
       "<ol class=list-inline>\n",
       "\t<li>13</li>\n",
       "\t<li>14</li>\n",
       "</ol>\n"
      ],
      "text/latex": [
       "\\begin{enumerate*}\n",
       "\\item 13\n",
       "\\item 14\n",
       "\\end{enumerate*}\n"
      ],
      "text/markdown": [
       "1. 13\n",
       "2. 14\n",
       "\n",
       "\n"
      ],
      "text/plain": [
       "[1] 13 14"
      ]
     },
     "metadata": {},
     "output_type": "display_data"
    }
   ],
   "source": [
    "dim(subset(boston, rm > 7))\n",
    "dim(subset(boston, rm > 8))"
   ]
  },
  {
   "cell_type": "code",
   "execution_count": 37,
   "metadata": {},
   "outputs": [
    {
     "data": {
      "text/plain": [
       "      crim               zn            indus             chas       \n",
       " Min.   :0.02009   Min.   : 0.00   Min.   : 2.680   Min.   :0.0000  \n",
       " 1st Qu.:0.33147   1st Qu.: 0.00   1st Qu.: 3.970   1st Qu.:0.0000  \n",
       " Median :0.52014   Median : 0.00   Median : 6.200   Median :0.0000  \n",
       " Mean   :0.71879   Mean   :13.62   Mean   : 7.078   Mean   :0.1538  \n",
       " 3rd Qu.:0.57834   3rd Qu.:20.00   3rd Qu.: 6.200   3rd Qu.:0.0000  \n",
       " Max.   :3.47428   Max.   :95.00   Max.   :19.580   Max.   :1.0000  \n",
       "      nox               rm             age             dis       \n",
       " Min.   :0.4161   Min.   :8.034   Min.   : 8.40   Min.   :1.801  \n",
       " 1st Qu.:0.5040   1st Qu.:8.247   1st Qu.:70.40   1st Qu.:2.288  \n",
       " Median :0.5070   Median :8.297   Median :78.30   Median :2.894  \n",
       " Mean   :0.5392   Mean   :8.349   Mean   :71.54   Mean   :3.430  \n",
       " 3rd Qu.:0.6050   3rd Qu.:8.398   3rd Qu.:86.50   3rd Qu.:3.652  \n",
       " Max.   :0.7180   Max.   :8.780   Max.   :93.90   Max.   :8.907  \n",
       "      rad              tax           ptratio          black      \n",
       " Min.   : 2.000   Min.   :224.0   Min.   :13.00   Min.   :354.6  \n",
       " 1st Qu.: 5.000   1st Qu.:264.0   1st Qu.:14.70   1st Qu.:384.5  \n",
       " Median : 7.000   Median :307.0   Median :17.40   Median :386.9  \n",
       " Mean   : 7.462   Mean   :325.1   Mean   :16.36   Mean   :385.2  \n",
       " 3rd Qu.: 8.000   3rd Qu.:307.0   3rd Qu.:17.40   3rd Qu.:389.7  \n",
       " Max.   :24.000   Max.   :666.0   Max.   :20.20   Max.   :396.9  \n",
       "     lstat           medv     \n",
       " Min.   :2.47   Min.   :21.9  \n",
       " 1st Qu.:3.32   1st Qu.:41.7  \n",
       " Median :4.14   Median :48.3  \n",
       " Mean   :4.31   Mean   :44.2  \n",
       " 3rd Qu.:5.12   3rd Qu.:50.0  \n",
       " Max.   :7.44   Max.   :50.0  "
      ]
     },
     "metadata": {},
     "output_type": "display_data"
    },
    {
     "data": {
      "text/plain": [
       "      crim                zn             indus            chas        \n",
       " Min.   : 0.00632   Min.   :  0.00   Min.   : 0.46   Min.   :0.00000  \n",
       " 1st Qu.: 0.08204   1st Qu.:  0.00   1st Qu.: 5.19   1st Qu.:0.00000  \n",
       " Median : 0.25651   Median :  0.00   Median : 9.69   Median :0.00000  \n",
       " Mean   : 3.61352   Mean   : 11.36   Mean   :11.14   Mean   :0.06917  \n",
       " 3rd Qu.: 3.67708   3rd Qu.: 12.50   3rd Qu.:18.10   3rd Qu.:0.00000  \n",
       " Max.   :88.97620   Max.   :100.00   Max.   :27.74   Max.   :1.00000  \n",
       "      nox               rm             age              dis        \n",
       " Min.   :0.3850   Min.   :3.561   Min.   :  2.90   Min.   : 1.130  \n",
       " 1st Qu.:0.4490   1st Qu.:5.886   1st Qu.: 45.02   1st Qu.: 2.100  \n",
       " Median :0.5380   Median :6.208   Median : 77.50   Median : 3.207  \n",
       " Mean   :0.5547   Mean   :6.285   Mean   : 68.57   Mean   : 3.795  \n",
       " 3rd Qu.:0.6240   3rd Qu.:6.623   3rd Qu.: 94.08   3rd Qu.: 5.188  \n",
       " Max.   :0.8710   Max.   :8.780   Max.   :100.00   Max.   :12.127  \n",
       "      rad              tax           ptratio          black       \n",
       " Min.   : 1.000   Min.   :187.0   Min.   :12.60   Min.   :  0.32  \n",
       " 1st Qu.: 4.000   1st Qu.:279.0   1st Qu.:17.40   1st Qu.:375.38  \n",
       " Median : 5.000   Median :330.0   Median :19.05   Median :391.44  \n",
       " Mean   : 9.549   Mean   :408.2   Mean   :18.46   Mean   :356.67  \n",
       " 3rd Qu.:24.000   3rd Qu.:666.0   3rd Qu.:20.20   3rd Qu.:396.23  \n",
       " Max.   :24.000   Max.   :711.0   Max.   :22.00   Max.   :396.90  \n",
       "     lstat            medv      \n",
       " Min.   : 1.73   Min.   : 5.00  \n",
       " 1st Qu.: 6.95   1st Qu.:17.02  \n",
       " Median :11.36   Median :21.20  \n",
       " Mean   :12.65   Mean   :22.53  \n",
       " 3rd Qu.:16.95   3rd Qu.:25.00  \n",
       " Max.   :37.97   Max.   :50.00  "
      ]
     },
     "metadata": {},
     "output_type": "display_data"
    }
   ],
   "source": [
    "summary(subset(boston, rm > 8))\n",
    "summary(boston)"
   ]
  }
 ],
 "metadata": {
  "kernelspec": {
   "display_name": "R",
   "language": "R",
   "name": "ir"
  },
  "language_info": {
   "codemirror_mode": "r",
   "file_extension": ".r",
   "mimetype": "text/x-r-source",
   "name": "R",
   "pygments_lexer": "r",
   "version": "3.6.1"
  }
 },
 "nbformat": 4,
 "nbformat_minor": 2
}

{
 "cells": [
  {
   "cell_type": "markdown",
   "metadata": {},
   "source": [
    "# Cross-validation\n",
    "\n",
    "#### Import packages, import data, split data into train/test"
   ]
  },
  {
   "cell_type": "code",
   "execution_count": 1,
   "metadata": {},
   "outputs": [],
   "source": [
    "%matplotlib inline\n",
    "import matplotlib.pyplot as plt\n",
    "import numpy as np\n",
    "import sklearn\n",
    "sklearn.set_config(print_changed_only=True)"
   ]
  },
  {
   "cell_type": "code",
   "execution_count": 2,
   "metadata": {},
   "outputs": [],
   "source": [
    "from sklearn.datasets import load_digits\n",
    "from sklearn.model_selection import train_test_split\n",
    "\n",
    "digits = load_digits()\n",
    "X_train, X_test, y_train, y_test = train_test_split(digits.data, digits.target)"
   ]
  },
  {
   "cell_type": "markdown",
   "metadata": {},
   "source": [
    "#### Cross-validation Techniques\n",
    "We'll be trying 3 different cross-validation techniques\n",
    "1. `cross_val_score`\n",
    "2. `KFold`\n",
    "3. `RepeatedStratifiedKFold`\n",
    "\n",
    "*Note* When an integer is passed to the cv parameter of cross_val_score():\n",
    "* `StratifiedKFold` is used if the estimator is a classifier and y is either binary or multiclass.\n",
    "* In all other cases, `KFold` is used.\n",
    "\n",
    "**Stratified KFolds ensure class balance across folds**\n",
    "\n",
    "The key parameter here is `cv` - the number of cross-validation folds"
   ]
  },
  {
   "cell_type": "code",
   "execution_count": 10,
   "metadata": {},
   "outputs": [],
   "source": [
    "from sklearn.model_selection import cross_val_score\n",
    "from sklearn.neighbors import KNeighborsClassifier"
   ]
  },
  {
   "cell_type": "code",
   "execution_count": 15,
   "metadata": {},
   "outputs": [
    {
     "name": "stdout",
     "output_type": "stream",
     "text": [
      "[0.97818182 0.98897059 0.98141264 0.97368421 0.98113208]\n"
     ]
    }
   ],
   "source": [
    "cv = cross_val_score(KNeighborsClassifier(),\n",
    "                     X_train, y_train, cv=5)\n",
    "print(cv)"
   ]
  },
  {
   "cell_type": "code",
   "execution_count": 12,
   "metadata": {},
   "outputs": [],
   "source": [
    "from sklearn.model_selection import KFold, RepeatedStratifiedKFold"
   ]
  },
  {
   "cell_type": "code",
   "execution_count": 16,
   "metadata": {},
   "outputs": [
    {
     "name": "stdout",
     "output_type": "stream",
     "text": [
      "[0.96296296 1.         0.97777778 0.97777778 0.97037037 0.99259259\n",
      " 0.99259259 1.         0.98507463 0.99253731]\n"
     ]
    }
   ],
   "source": [
    "kfold = cross_val_score(KNeighborsClassifier(),\n",
    "                        X_train, y_train, cv=KFold(n_splits=10, shuffle=True, random_state=42))\n",
    "print(kfold)"
   ]
  },
  {
   "cell_type": "code",
   "execution_count": 18,
   "metadata": {},
   "outputs": [
    {
     "name": "stdout",
     "output_type": "stream",
     "text": [
      "[0.9929078  0.98561151 0.95620438 0.99259259 0.98507463 0.97761194\n",
      " 1.         0.96969697 0.99236641 1.         0.9787234  0.97841727\n",
      " 0.99270073 0.97037037 1.         0.99253731 0.9924812  0.98484848\n",
      " 0.98473282 0.96946565 0.9929078  0.98561151 0.99270073 0.98518519\n",
      " 0.98507463 0.99253731 0.97744361 0.99242424 0.98473282 0.98473282\n",
      " 0.9929078  0.99280576 1.         0.97037037 0.98507463 0.97014925\n",
      " 0.97744361 0.99242424 0.99236641 0.98473282 0.97163121 0.99280576\n",
      " 0.99270073 1.         0.98507463 0.98507463 0.97744361 0.97727273\n",
      " 0.97709924 0.99236641 0.9858156  0.98561151 0.98540146 1.\n",
      " 0.96268657 1.         0.98496241 0.96212121 0.98473282 0.99236641\n",
      " 0.97163121 0.98561151 1.         0.98518519 0.99253731 0.99253731\n",
      " 0.98496241 1.         0.97709924 0.97709924 0.9929078  0.97122302\n",
      " 0.99270073 1.         0.98507463 0.98507463 0.98496241 1.\n",
      " 0.98473282 0.98473282 0.97163121 0.97122302 0.99270073 0.98518519\n",
      " 0.99253731 0.98507463 0.98496241 0.98484848 1.         0.98473282\n",
      " 0.9787234  0.99280576 0.98540146 1.         0.98507463 0.99253731\n",
      " 0.98496241 0.98484848 0.97709924 0.95419847]\n"
     ]
    }
   ],
   "source": [
    "rptd_strat_kfold = cross_val_score(KNeighborsClassifier(),\n",
    "                                   X_train, y_train,\n",
    "                                   cv=RepeatedStratifiedKFold(n_splits=10, n_repeats=10, random_state=42))\n",
    "\n",
    "print(rptd_strat_kfold)"
   ]
  },
  {
   "cell_type": "code",
   "execution_count": 19,
   "metadata": {},
   "outputs": [
    {
     "name": "stdout",
     "output_type": "stream",
     "text": [
      "mean score of plain cv:   0.9806762663640661\n",
      "mean score of kfold cv:   0.985168601437258\n",
      "mean score of rptd_kf cv: 0.98559755195736\n"
     ]
    }
   ],
   "source": [
    "print(f'mean score of plain cv:   {np.mean(cv)}')\n",
    "print(f'mean score of kfold cv:   {np.mean(kfold)}')\n",
    "print(f'mean score of rptd_kf cv: {np.mean(rptd_strat_kfold)}')"
   ]
  },
  {
   "cell_type": "markdown",
   "metadata": {},
   "source": [
    "Grid Searches\n",
    "=================\n",
    "\n",
    "We can bake grid search directly into cross-validation techniques.\n",
    "\n",
    "Here, we'll use `GridSearchCV` on a Support Vector Machine:"
   ]
  },
  {
   "cell_type": "code",
   "execution_count": 22,
   "metadata": {},
   "outputs": [],
   "source": [
    "from sklearn.model_selection import GridSearchCV\n",
    "from sklearn.svm import SVC"
   ]
  },
  {
   "cell_type": "markdown",
   "metadata": {},
   "source": [
    "Define parameter grid:\n",
    "* `C` is the error term (the larger the `C` the smaller the margin of the hyperplane. A smaller `C` will undoubtedly introduce some misclassification)\n",
    "* `gamma` is the kernel coefficient (a small `gamma` will give you low bias and high variance ie overfit while a large `gamma` will give you higher bias and low variance ie underfit.)"
   ]
  },
  {
   "cell_type": "code",
   "execution_count": 23,
   "metadata": {},
   "outputs": [
    {
     "name": "stdout",
     "output_type": "stream",
     "text": [
      "{'C': array([  0.001,   0.01 ,   0.1  ,   1.   ,  10.   , 100.   ]), 'gamma': array([0.00001, 0.0001 , 0.001  , 0.01   , 0.1    ])}\n"
     ]
    }
   ],
   "source": [
    "import numpy as np\n",
    "\n",
    "param_grid = {'C': 10. ** np.arange(-3, 3),\n",
    "              'gamma' : 10. ** np.arange(-5, 0)}\n",
    "\n",
    "np.set_printoptions(suppress=True)\n",
    "print(param_grid)"
   ]
  },
  {
   "cell_type": "code",
   "execution_count": 24,
   "metadata": {},
   "outputs": [],
   "source": [
    "grid_search = GridSearchCV(SVC(), param_grid, verbose=3)"
   ]
  },
  {
   "cell_type": "markdown",
   "metadata": {},
   "source": [
    "A GridSearchCV object behaves just like a normal classifier."
   ]
  },
  {
   "cell_type": "code",
   "execution_count": 25,
   "metadata": {},
   "outputs": [
    {
     "name": "stderr",
     "output_type": "stream",
     "text": [
      "C:\\Users\\jfields\\AppData\\Local\\Continuum\\anaconda3\\lib\\site-packages\\sklearn\\model_selection\\_split.py:1978: FutureWarning: The default value of cv will change from 3 to 5 in version 0.22. Specify it explicitly to silence this warning.\n",
      "  warnings.warn(CV_WARNING, FutureWarning)\n",
      "[Parallel(n_jobs=1)]: Using backend SequentialBackend with 1 concurrent workers.\n",
      "[Parallel(n_jobs=1)]: Done   1 out of   1 | elapsed:    0.1s remaining:    0.0s\n"
     ]
    },
    {
     "name": "stdout",
     "output_type": "stream",
     "text": [
      "Fitting 3 folds for each of 30 candidates, totalling 90 fits\n",
      "[CV] C=0.001, gamma=1e-05 ............................................\n",
      "[CV] ................ C=0.001, gamma=1e-05, score=0.109, total=   0.2s\n",
      "[CV] C=0.001, gamma=1e-05 ............................................\n",
      "[CV] ................ C=0.001, gamma=1e-05, score=0.109, total=   0.2s\n",
      "[CV] C=0.001, gamma=1e-05 ............................................\n",
      "[CV] ................ C=0.001, gamma=1e-05, score=0.110, total=   0.2s\n",
      "[CV] C=0.001, gamma=0.0001 ...........................................\n"
     ]
    },
    {
     "name": "stderr",
     "output_type": "stream",
     "text": [
      "[Parallel(n_jobs=1)]: Done   2 out of   2 | elapsed:    0.2s remaining:    0.0s\n"
     ]
    },
    {
     "name": "stdout",
     "output_type": "stream",
     "text": [
      "[CV] ............... C=0.001, gamma=0.0001, score=0.109, total=   0.2s\n",
      "[CV] C=0.001, gamma=0.0001 ...........................................\n",
      "[CV] ............... C=0.001, gamma=0.0001, score=0.109, total=   0.2s\n",
      "[CV] C=0.001, gamma=0.0001 ...........................................\n",
      "[CV] ............... C=0.001, gamma=0.0001, score=0.110, total=   0.2s\n",
      "[CV] C=0.001, gamma=0.001 ............................................\n",
      "[CV] ................ C=0.001, gamma=0.001, score=0.109, total=   0.2s\n",
      "[CV] C=0.001, gamma=0.001 ............................................\n",
      "[CV] ................ C=0.001, gamma=0.001, score=0.109, total=   0.2s\n",
      "[CV] C=0.001, gamma=0.001 ............................................\n",
      "[CV] ................ C=0.001, gamma=0.001, score=0.110, total=   0.2s\n",
      "[CV] C=0.001, gamma=0.01 .............................................\n",
      "[CV] ................. C=0.001, gamma=0.01, score=0.109, total=   0.2s\n",
      "[CV] C=0.001, gamma=0.01 .............................................\n",
      "[CV] ................. C=0.001, gamma=0.01, score=0.109, total=   0.2s\n",
      "[CV] C=0.001, gamma=0.01 .............................................\n",
      "[CV] ................. C=0.001, gamma=0.01, score=0.110, total=   0.2s\n",
      "[CV] C=0.001, gamma=0.1 ..............................................\n",
      "[CV] .................. C=0.001, gamma=0.1, score=0.109, total=   0.2s\n",
      "[CV] C=0.001, gamma=0.1 ..............................................\n",
      "[CV] .................. C=0.001, gamma=0.1, score=0.109, total=   0.2s\n",
      "[CV] C=0.001, gamma=0.1 ..............................................\n",
      "[CV] .................. C=0.001, gamma=0.1, score=0.110, total=   0.2s\n",
      "[CV] C=0.01, gamma=1e-05 .............................................\n",
      "[CV] ................. C=0.01, gamma=1e-05, score=0.109, total=   0.2s\n",
      "[CV] C=0.01, gamma=1e-05 .............................................\n",
      "[CV] ................. C=0.01, gamma=1e-05, score=0.109, total=   0.2s\n",
      "[CV] C=0.01, gamma=1e-05 .............................................\n",
      "[CV] ................. C=0.01, gamma=1e-05, score=0.110, total=   0.2s\n",
      "[CV] C=0.01, gamma=0.0001 ............................................\n",
      "[CV] ................ C=0.01, gamma=0.0001, score=0.109, total=   0.2s\n",
      "[CV] C=0.01, gamma=0.0001 ............................................\n",
      "[CV] ................ C=0.01, gamma=0.0001, score=0.109, total=   0.2s\n",
      "[CV] C=0.01, gamma=0.0001 ............................................\n",
      "[CV] ................ C=0.01, gamma=0.0001, score=0.110, total=   0.2s\n",
      "[CV] C=0.01, gamma=0.001 .............................................\n",
      "[CV] ................. C=0.01, gamma=0.001, score=0.109, total=   0.2s\n",
      "[CV] C=0.01, gamma=0.001 .............................................\n",
      "[CV] ................. C=0.01, gamma=0.001, score=0.109, total=   0.2s\n",
      "[CV] C=0.01, gamma=0.001 .............................................\n",
      "[CV] ................. C=0.01, gamma=0.001, score=0.110, total=   0.2s\n",
      "[CV] C=0.01, gamma=0.01 ..............................................\n",
      "[CV] .................. C=0.01, gamma=0.01, score=0.109, total=   0.2s\n",
      "[CV] C=0.01, gamma=0.01 ..............................................\n",
      "[CV] .................. C=0.01, gamma=0.01, score=0.109, total=   0.2s\n",
      "[CV] C=0.01, gamma=0.01 ..............................................\n",
      "[CV] .................. C=0.01, gamma=0.01, score=0.110, total=   0.2s\n",
      "[CV] C=0.01, gamma=0.1 ...............................................\n",
      "[CV] ................... C=0.01, gamma=0.1, score=0.109, total=   0.2s\n",
      "[CV] C=0.01, gamma=0.1 ...............................................\n",
      "[CV] ................... C=0.01, gamma=0.1, score=0.109, total=   0.2s\n",
      "[CV] C=0.01, gamma=0.1 ...............................................\n",
      "[CV] ................... C=0.01, gamma=0.1, score=0.110, total=   0.2s\n",
      "[CV] C=0.1, gamma=1e-05 ..............................................\n",
      "[CV] .................. C=0.1, gamma=1e-05, score=0.109, total=   0.2s\n",
      "[CV] C=0.1, gamma=1e-05 ..............................................\n",
      "[CV] .................. C=0.1, gamma=1e-05, score=0.109, total=   0.2s\n",
      "[CV] C=0.1, gamma=1e-05 ..............................................\n",
      "[CV] .................. C=0.1, gamma=1e-05, score=0.110, total=   0.2s\n",
      "[CV] C=0.1, gamma=0.0001 .............................................\n",
      "[CV] ................. C=0.1, gamma=0.0001, score=0.838, total=   0.1s\n",
      "[CV] C=0.1, gamma=0.0001 .............................................\n",
      "[CV] ................. C=0.1, gamma=0.0001, score=0.833, total=   0.1s\n",
      "[CV] C=0.1, gamma=0.0001 .............................................\n",
      "[CV] ................. C=0.1, gamma=0.0001, score=0.821, total=   0.2s\n",
      "[CV] C=0.1, gamma=0.001 ..............................................\n",
      "[CV] .................. C=0.1, gamma=0.001, score=0.949, total=   0.1s\n",
      "[CV] C=0.1, gamma=0.001 ..............................................\n",
      "[CV] .................. C=0.1, gamma=0.001, score=0.942, total=   0.1s\n",
      "[CV] C=0.1, gamma=0.001 ..............................................\n",
      "[CV] .................. C=0.1, gamma=0.001, score=0.942, total=   0.1s\n",
      "[CV] C=0.1, gamma=0.01 ...............................................\n",
      "[CV] ................... C=0.1, gamma=0.01, score=0.109, total=   0.2s\n",
      "[CV] C=0.1, gamma=0.01 ...............................................\n",
      "[CV] ................... C=0.1, gamma=0.01, score=0.109, total=   0.2s\n",
      "[CV] C=0.1, gamma=0.01 ...............................................\n",
      "[CV] ................... C=0.1, gamma=0.01, score=0.110, total=   0.2s\n",
      "[CV] C=0.1, gamma=0.1 ................................................\n",
      "[CV] .................... C=0.1, gamma=0.1, score=0.109, total=   0.2s\n",
      "[CV] C=0.1, gamma=0.1 ................................................\n",
      "[CV] .................... C=0.1, gamma=0.1, score=0.109, total=   0.2s\n",
      "[CV] C=0.1, gamma=0.1 ................................................\n",
      "[CV] .................... C=0.1, gamma=0.1, score=0.110, total=   0.2s\n",
      "[CV] C=1.0, gamma=1e-05 ..............................................\n",
      "[CV] .................. C=1.0, gamma=1e-05, score=0.874, total=   0.2s\n",
      "[CV] C=1.0, gamma=1e-05 ..............................................\n",
      "[CV] .................. C=1.0, gamma=1e-05, score=0.851, total=   0.2s\n",
      "[CV] C=1.0, gamma=1e-05 ..............................................\n",
      "[CV] .................. C=1.0, gamma=1e-05, score=0.832, total=   0.2s\n",
      "[CV] C=1.0, gamma=0.0001 .............................................\n",
      "[CV] ................. C=1.0, gamma=0.0001, score=0.962, total=   0.1s\n",
      "[CV] C=1.0, gamma=0.0001 .............................................\n",
      "[CV] ................. C=1.0, gamma=0.0001, score=0.964, total=   0.1s\n",
      "[CV] C=1.0, gamma=0.0001 .............................................\n",
      "[CV] ................. C=1.0, gamma=0.0001, score=0.946, total=   0.1s\n",
      "[CV] C=1.0, gamma=0.001 ..............................................\n",
      "[CV] .................. C=1.0, gamma=0.001, score=0.984, total=   0.1s\n",
      "[CV] C=1.0, gamma=0.001 ..............................................\n",
      "[CV] .................. C=1.0, gamma=0.001, score=0.996, total=   0.1s\n",
      "[CV] C=1.0, gamma=0.001 ..............................................\n",
      "[CV] .................. C=1.0, gamma=0.001, score=0.982, total=   0.1s\n",
      "[CV] C=1.0, gamma=0.01 ...............................................\n",
      "[CV] ................... C=1.0, gamma=0.01, score=0.716, total=   0.2s\n",
      "[CV] C=1.0, gamma=0.01 ...............................................\n",
      "[CV] ................... C=1.0, gamma=0.01, score=0.729, total=   0.2s\n",
      "[CV] C=1.0, gamma=0.01 ...............................................\n",
      "[CV] ................... C=1.0, gamma=0.01, score=0.744, total=   0.2s\n",
      "[CV] C=1.0, gamma=0.1 ................................................\n",
      "[CV] .................... C=1.0, gamma=0.1, score=0.109, total=   0.2s\n",
      "[CV] C=1.0, gamma=0.1 ................................................\n",
      "[CV] .................... C=1.0, gamma=0.1, score=0.109, total=   0.2s\n",
      "[CV] C=1.0, gamma=0.1 ................................................\n",
      "[CV] .................... C=1.0, gamma=0.1, score=0.110, total=   0.2s\n",
      "[CV] C=10.0, gamma=1e-05 .............................................\n",
      "[CV] ................. C=10.0, gamma=1e-05, score=0.962, total=   0.1s\n",
      "[CV] C=10.0, gamma=1e-05 .............................................\n",
      "[CV] ................. C=10.0, gamma=1e-05, score=0.971, total=   0.1s\n",
      "[CV] C=10.0, gamma=1e-05 .............................................\n"
     ]
    },
    {
     "name": "stdout",
     "output_type": "stream",
     "text": [
      "[CV] ................. C=10.0, gamma=1e-05, score=0.944, total=   0.1s\n",
      "[CV] C=10.0, gamma=0.0001 ............................................\n",
      "[CV] ................ C=10.0, gamma=0.0001, score=0.976, total=   0.0s\n",
      "[CV] C=10.0, gamma=0.0001 ............................................\n",
      "[CV] ................ C=10.0, gamma=0.0001, score=0.993, total=   0.0s\n",
      "[CV] C=10.0, gamma=0.0001 ............................................\n",
      "[CV] ................ C=10.0, gamma=0.0001, score=0.969, total=   0.0s\n",
      "[CV] C=10.0, gamma=0.001 .............................................\n",
      "[CV] ................. C=10.0, gamma=0.001, score=0.989, total=   0.1s\n",
      "[CV] C=10.0, gamma=0.001 .............................................\n",
      "[CV] ................. C=10.0, gamma=0.001, score=0.998, total=   0.1s\n",
      "[CV] C=10.0, gamma=0.001 .............................................\n",
      "[CV] ................. C=10.0, gamma=0.001, score=0.984, total=   0.1s\n",
      "[CV] C=10.0, gamma=0.01 ..............................................\n",
      "[CV] .................. C=10.0, gamma=0.01, score=0.736, total=   0.2s\n",
      "[CV] C=10.0, gamma=0.01 ..............................................\n",
      "[CV] .................. C=10.0, gamma=0.01, score=0.756, total=   0.2s\n",
      "[CV] C=10.0, gamma=0.01 ..............................................\n",
      "[CV] .................. C=10.0, gamma=0.01, score=0.765, total=   0.2s\n",
      "[CV] C=10.0, gamma=0.1 ...............................................\n",
      "[CV] ................... C=10.0, gamma=0.1, score=0.109, total=   0.2s\n",
      "[CV] C=10.0, gamma=0.1 ...............................................\n",
      "[CV] ................... C=10.0, gamma=0.1, score=0.109, total=   0.2s\n",
      "[CV] C=10.0, gamma=0.1 ...............................................\n",
      "[CV] ................... C=10.0, gamma=0.1, score=0.110, total=   0.2s\n",
      "[CV] C=100.0, gamma=1e-05 ............................................\n",
      "[CV] ................ C=100.0, gamma=1e-05, score=0.980, total=   0.0s\n",
      "[CV] C=100.0, gamma=1e-05 ............................................\n",
      "[CV] ................ C=100.0, gamma=1e-05, score=0.982, total=   0.0s\n",
      "[CV] C=100.0, gamma=1e-05 ............................................\n",
      "[CV] ................ C=100.0, gamma=1e-05, score=0.964, total=   0.0s\n",
      "[CV] C=100.0, gamma=0.0001 ...........................................\n",
      "[CV] ............... C=100.0, gamma=0.0001, score=0.987, total=   0.0s\n",
      "[CV] C=100.0, gamma=0.0001 ...........................................\n",
      "[CV] ............... C=100.0, gamma=0.0001, score=0.980, total=   0.0s\n",
      "[CV] C=100.0, gamma=0.0001 ...........................................\n",
      "[CV] ............... C=100.0, gamma=0.0001, score=0.964, total=   0.0s\n",
      "[CV] C=100.0, gamma=0.001 ............................................\n",
      "[CV] ................ C=100.0, gamma=0.001, score=0.989, total=   0.1s\n",
      "[CV] C=100.0, gamma=0.001 ............................................\n",
      "[CV] ................ C=100.0, gamma=0.001, score=0.998, total=   0.1s\n",
      "[CV] C=100.0, gamma=0.001 ............................................\n",
      "[CV] ................ C=100.0, gamma=0.001, score=0.984, total=   0.1s\n",
      "[CV] C=100.0, gamma=0.01 .............................................\n",
      "[CV] ................. C=100.0, gamma=0.01, score=0.736, total=   0.2s\n",
      "[CV] C=100.0, gamma=0.01 .............................................\n",
      "[CV] ................. C=100.0, gamma=0.01, score=0.756, total=   0.2s\n",
      "[CV] C=100.0, gamma=0.01 .............................................\n",
      "[CV] ................. C=100.0, gamma=0.01, score=0.765, total=   0.2s\n",
      "[CV] C=100.0, gamma=0.1 ..............................................\n",
      "[CV] .................. C=100.0, gamma=0.1, score=0.109, total=   0.2s\n",
      "[CV] C=100.0, gamma=0.1 ..............................................\n",
      "[CV] .................. C=100.0, gamma=0.1, score=0.109, total=   0.2s\n",
      "[CV] C=100.0, gamma=0.1 ..............................................\n",
      "[CV] .................. C=100.0, gamma=0.1, score=0.110, total=   0.2s\n"
     ]
    },
    {
     "name": "stderr",
     "output_type": "stream",
     "text": [
      "[Parallel(n_jobs=1)]: Done  90 out of  90 | elapsed:   12.8s finished\n"
     ]
    },
    {
     "data": {
      "text/plain": [
       "GridSearchCV(estimator=SVC(),\n",
       "             param_grid={'C': array([  0.001,   0.01 ,   0.1  ,   1.   ,  10.   , 100.   ]),\n",
       "                         'gamma': array([0.00001, 0.0001 , 0.001  , 0.01   , 0.1    ])},\n",
       "             verbose=3)"
      ]
     },
     "execution_count": 25,
     "metadata": {},
     "output_type": "execute_result"
    }
   ],
   "source": [
    "grid_search.fit(X_train, y_train)"
   ]
  },
  {
   "cell_type": "code",
   "execution_count": 26,
   "metadata": {},
   "outputs": [
    {
     "data": {
      "text/plain": [
       "array([0, 4, 7, 4, 8, 4, 9, 2, 4, 6, 6, 7, 2, 8, 7, 2, 5, 3, 3, 8, 5, 2,\n",
       "       9, 1, 3, 1, 8, 3, 6, 1, 2, 7, 8, 7, 1, 3, 2, 9, 4, 2, 3, 2, 1, 1,\n",
       "       7, 2, 3, 9, 4, 9, 9, 6, 3, 0, 4, 0, 5, 0, 5, 7, 3, 0, 3, 9, 5, 8,\n",
       "       1, 6, 3, 2, 1, 3, 6, 9, 2, 9, 5, 9, 3, 1, 7, 9, 0, 5, 2, 8, 1, 9,\n",
       "       5, 5, 0, 7, 9, 3, 1, 4, 8, 3, 9, 9, 4, 6, 3, 8, 4, 1, 5, 1, 6, 3,\n",
       "       2, 8, 0, 7, 5, 8, 9, 0, 3, 8, 0, 8, 5, 2, 8, 5, 4, 3, 3, 9, 1, 1,\n",
       "       3, 5, 3, 5, 8, 1, 1, 8, 6, 3, 2, 5, 5, 4, 2, 3, 7, 9, 6, 1, 7, 0,\n",
       "       2, 1, 0, 2, 0, 7, 6, 2, 3, 5, 1, 6, 7, 7, 6, 6, 9, 2, 2, 9, 9, 5,\n",
       "       3, 0, 5, 5, 7, 7, 7, 8, 9, 9, 1, 7, 1, 2, 6, 8, 4, 1, 9, 3, 3, 2,\n",
       "       9, 5, 9, 5, 7, 1, 2, 5, 7, 3, 3, 4, 5, 3, 0, 4, 8, 9, 1, 3, 8, 7,\n",
       "       7, 6, 9, 3, 9, 8, 8, 0, 9, 1, 3, 6, 6, 0, 8, 5, 7, 7, 6, 3, 4, 7,\n",
       "       8, 1, 0, 4, 7, 9, 2, 7, 6, 7, 5, 2, 5, 5, 2, 0, 8, 9, 5, 4, 5, 1,\n",
       "       0, 3, 8, 9, 3, 5, 0, 7, 4, 1, 5, 0, 2, 3, 2, 3, 9, 1, 2, 1, 0, 6,\n",
       "       5, 5, 4, 7, 5, 2, 3, 5, 9, 7, 1, 2, 8, 1, 2, 1, 4, 7, 7, 7, 4, 8,\n",
       "       8, 8, 4, 6, 1, 1, 4, 1, 5, 9, 4, 3, 3, 1, 0, 8, 4, 8, 2, 8, 9, 5,\n",
       "       5, 5, 6, 8, 0, 6, 6, 1, 8, 9, 6, 5, 1, 0, 0, 5, 6, 3, 4, 9, 0, 4,\n",
       "       3, 5, 2, 5, 0, 8, 4, 1, 4, 2, 9, 1, 6, 9, 7, 7, 5, 7, 7, 2, 3, 9,\n",
       "       9, 2, 9, 6, 3, 6, 9, 1, 9, 5, 6, 7, 7, 1, 6, 6, 1, 1, 4, 6, 2, 9,\n",
       "       1, 5, 4, 4, 2, 8, 2, 3, 3, 0, 0, 2, 9, 8, 4, 4, 7, 0, 5, 2, 8, 9,\n",
       "       7, 1, 7, 5, 2, 0, 4, 2, 1, 8, 2, 9, 0, 2, 3, 4, 1, 1, 9, 2, 4, 9,\n",
       "       4, 0, 3, 9, 2, 3, 4, 8, 8, 5])"
      ]
     },
     "execution_count": 26,
     "metadata": {},
     "output_type": "execute_result"
    }
   ],
   "source": [
    "grid_search.predict(X_test)"
   ]
  },
  {
   "cell_type": "code",
   "execution_count": 27,
   "metadata": {},
   "outputs": [
    {
     "data": {
      "text/plain": [
       "0.9866666666666667"
      ]
     },
     "execution_count": 27,
     "metadata": {},
     "output_type": "execute_result"
    }
   ],
   "source": [
    "grid_search.score(X_test, y_test)"
   ]
  },
  {
   "cell_type": "code",
   "execution_count": 28,
   "metadata": {},
   "outputs": [
    {
     "data": {
      "text/plain": [
       "{'C': 10.0, 'gamma': 0.001}"
      ]
     },
     "execution_count": 28,
     "metadata": {},
     "output_type": "execute_result"
    }
   ],
   "source": [
    "grid_search.best_params_"
   ]
  },
  {
   "cell_type": "code",
   "execution_count": 29,
   "metadata": {},
   "outputs": [
    {
     "data": {
      "text/plain": [
       "0.9903489235337788"
      ]
     },
     "execution_count": 29,
     "metadata": {},
     "output_type": "execute_result"
    }
   ],
   "source": [
    "grid_search.best_score_"
   ]
  },
  {
   "cell_type": "code",
   "execution_count": 30,
   "metadata": {},
   "outputs": [
    {
     "data": {
      "text/plain": [
       "SVC(C=10.0, gamma=0.001)"
      ]
     },
     "execution_count": 30,
     "metadata": {},
     "output_type": "execute_result"
    }
   ],
   "source": [
    "grid_search.best_estimator_"
   ]
  },
  {
   "cell_type": "code",
   "execution_count": 31,
   "metadata": {},
   "outputs": [
    {
     "data": {
      "image/png": "[encoded data removed]",
      "text/plain": [
       "<Figure size 288x345.6 with 2 Axes>"
      ]
     },
     "metadata": {
      "needs_background": "light"
     },
     "output_type": "display_data"
    }
   ],
   "source": [
    "# We extract just the scores\n",
    "\n",
    "scores = grid_search.cv_results_['mean_test_score']\n",
    "scores = np.array(scores).reshape(6, 5)\n",
    "\n",
    "plt.matshow(scores)\n",
    "plt.xlabel('gamma')\n",
    "plt.ylabel('C')\n",
    "plt.colorbar()\n",
    "plt.xticks(np.arange(5), param_grid['gamma'])\n",
    "plt.yticks(np.arange(6), param_grid['C']);"
   ]
  },
  {
   "cell_type": "markdown",
   "metadata": {},
   "source": [
    "# Exercises\n",
    "Use GridSearchCV to adjust n_neighbors of KNeighborsClassifier."
   ]
  },
  {
   "cell_type": "code",
   "execution_count": 42,
   "metadata": {},
   "outputs": [
    {
     "name": "stdout",
     "output_type": "stream",
     "text": [
      "Fitting 5 folds for each of 10 candidates, totalling 50 fits\n",
      "[CV] n_neighbors=1 ...................................................\n",
      "[CV] ....................... n_neighbors=1, score=0.989, total=   0.0s\n",
      "[CV] n_neighbors=1 ...................................................\n",
      "[CV] ....................... n_neighbors=1, score=0.985, total=   0.0s\n",
      "[CV] n_neighbors=1 ...................................................\n",
      "[CV] ....................... n_neighbors=1, score=0.989, total=   0.0s\n",
      "[CV] n_neighbors=1 ...................................................\n",
      "[CV] ....................... n_neighbors=1, score=0.981, total=   0.0s\n",
      "[CV] n_neighbors=1 ...................................................\n",
      "[CV] ....................... n_neighbors=1, score=0.985, total=   0.0s\n",
      "[CV] n_neighbors=2 ...................................................\n"
     ]
    },
    {
     "name": "stderr",
     "output_type": "stream",
     "text": [
      "[Parallel(n_jobs=1)]: Using backend SequentialBackend with 1 concurrent workers.\n",
      "[Parallel(n_jobs=1)]: Done   1 out of   1 | elapsed:    0.0s remaining:    0.0s\n",
      "[Parallel(n_jobs=1)]: Done   2 out of   2 | elapsed:    0.0s remaining:    0.0s\n"
     ]
    },
    {
     "name": "stdout",
     "output_type": "stream",
     "text": [
      "[CV] ....................... n_neighbors=2, score=0.985, total=   0.0s\n",
      "[CV] n_neighbors=2 ...................................................\n",
      "[CV] ....................... n_neighbors=2, score=0.982, total=   0.0s\n",
      "[CV] n_neighbors=2 ...................................................\n",
      "[CV] ....................... n_neighbors=2, score=0.981, total=   0.0s\n",
      "[CV] n_neighbors=2 ...................................................\n",
      "[CV] ....................... n_neighbors=2, score=0.977, total=   0.0s\n",
      "[CV] n_neighbors=2 ...................................................\n",
      "[CV] ....................... n_neighbors=2, score=0.981, total=   0.0s\n",
      "[CV] n_neighbors=3 ...................................................\n",
      "[CV] ....................... n_neighbors=3, score=0.993, total=   0.0s\n",
      "[CV] n_neighbors=3 ...................................................\n",
      "[CV] ....................... n_neighbors=3, score=0.989, total=   0.0s\n",
      "[CV] n_neighbors=3 ...................................................\n",
      "[CV] ....................... n_neighbors=3, score=0.989, total=   0.0s\n",
      "[CV] n_neighbors=3 ...................................................\n",
      "[CV] ....................... n_neighbors=3, score=0.974, total=   0.0s\n",
      "[CV] n_neighbors=3 ...................................................\n",
      "[CV] ....................... n_neighbors=3, score=0.985, total=   0.0s\n",
      "[CV] n_neighbors=4 ...................................................\n",
      "[CV] ....................... n_neighbors=4, score=0.978, total=   0.0s\n",
      "[CV] n_neighbors=4 ...................................................\n",
      "[CV] ....................... n_neighbors=4, score=0.989, total=   0.0s\n",
      "[CV] n_neighbors=4 ...................................................\n",
      "[CV] ....................... n_neighbors=4, score=0.981, total=   0.0s\n",
      "[CV] n_neighbors=4 ...................................................\n",
      "[CV] ....................... n_neighbors=4, score=0.974, total=   0.0s\n",
      "[CV] n_neighbors=4 ...................................................\n",
      "[CV] ....................... n_neighbors=4, score=0.981, total=   0.0s\n",
      "[CV] n_neighbors=5 ...................................................\n",
      "[CV] ....................... n_neighbors=5, score=0.978, total=   0.0s\n",
      "[CV] n_neighbors=5 ...................................................\n",
      "[CV] ....................... n_neighbors=5, score=0.989, total=   0.0s\n",
      "[CV] n_neighbors=5 ...................................................\n",
      "[CV] ....................... n_neighbors=5, score=0.981, total=   0.0s\n",
      "[CV] n_neighbors=5 ...................................................\n",
      "[CV] ....................... n_neighbors=5, score=0.974, total=   0.0s\n",
      "[CV] n_neighbors=5 ...................................................\n",
      "[CV] ....................... n_neighbors=5, score=0.981, total=   0.0s\n",
      "[CV] n_neighbors=6 ...................................................\n",
      "[CV] ....................... n_neighbors=6, score=0.978, total=   0.0s\n",
      "[CV] n_neighbors=6 ...................................................\n",
      "[CV] ....................... n_neighbors=6, score=0.989, total=   0.0s\n",
      "[CV] n_neighbors=6 ...................................................\n",
      "[CV] ....................... n_neighbors=6, score=0.981, total=   0.0s\n",
      "[CV] n_neighbors=6 ...................................................\n",
      "[CV] ....................... n_neighbors=6, score=0.970, total=   0.0s\n",
      "[CV] n_neighbors=6 ...................................................\n",
      "[CV] ....................... n_neighbors=6, score=0.985, total=   0.0s\n",
      "[CV] n_neighbors=7 ...................................................\n",
      "[CV] ....................... n_neighbors=7, score=0.978, total=   0.0s\n",
      "[CV] n_neighbors=7 ...................................................\n",
      "[CV] ....................... n_neighbors=7, score=0.993, total=   0.0s\n",
      "[CV] n_neighbors=7 ...................................................\n",
      "[CV] ....................... n_neighbors=7, score=0.978, total=   0.0s\n",
      "[CV] n_neighbors=7 ...................................................\n",
      "[CV] ....................... n_neighbors=7, score=0.966, total=   0.0s\n",
      "[CV] n_neighbors=7 ...................................................\n",
      "[CV] ....................... n_neighbors=7, score=0.985, total=   0.0s\n",
      "[CV] n_neighbors=8 ...................................................\n",
      "[CV] ....................... n_neighbors=8, score=0.978, total=   0.0s\n",
      "[CV] n_neighbors=8 ...................................................\n",
      "[CV] ....................... n_neighbors=8, score=0.989, total=   0.0s\n",
      "[CV] n_neighbors=8 ...................................................\n",
      "[CV] ....................... n_neighbors=8, score=0.978, total=   0.0s\n",
      "[CV] n_neighbors=8 ...................................................\n",
      "[CV] ....................... n_neighbors=8, score=0.970, total=   0.0s\n",
      "[CV] n_neighbors=8 ...................................................\n",
      "[CV] ....................... n_neighbors=8, score=0.985, total=   0.0s\n",
      "[CV] n_neighbors=9 ...................................................\n",
      "[CV] ....................... n_neighbors=9, score=0.975, total=   0.0s\n",
      "[CV] n_neighbors=9 ...................................................\n",
      "[CV] ....................... n_neighbors=9, score=0.993, total=   0.0s\n",
      "[CV] n_neighbors=9 ...................................................\n",
      "[CV] ....................... n_neighbors=9, score=0.985, total=   0.0s\n",
      "[CV] n_neighbors=9 ...................................................\n",
      "[CV] ....................... n_neighbors=9, score=0.977, total=   0.0s\n",
      "[CV] n_neighbors=9 ...................................................\n",
      "[CV] ....................... n_neighbors=9, score=0.985, total=   0.0s\n",
      "[CV] n_neighbors=10 ..................................................\n",
      "[CV] ...................... n_neighbors=10, score=0.971, total=   0.0s\n",
      "[CV] n_neighbors=10 ..................................................\n",
      "[CV] ...................... n_neighbors=10, score=0.989, total=   0.0s\n",
      "[CV] n_neighbors=10 ..................................................\n",
      "[CV] ...................... n_neighbors=10, score=0.974, total=   0.0s\n",
      "[CV] n_neighbors=10 ..................................................\n",
      "[CV] ...................... n_neighbors=10, score=0.977, total=   0.0s\n",
      "[CV] n_neighbors=10 ..................................................\n",
      "[CV] ...................... n_neighbors=10, score=0.985, total=   0.0s\n"
     ]
    },
    {
     "name": "stderr",
     "output_type": "stream",
     "text": [
      "[Parallel(n_jobs=1)]: Done  50 out of  50 | elapsed:    1.9s finished\n"
     ]
    },
    {
     "data": {
      "text/plain": [
       "GridSearchCV(cv=5, estimator=KNeighborsClassifier(),\n",
       "             param_grid={'n_neighbors': array([ 1,  2,  3,  4,  5,  6,  7,  8,  9, 10])},\n",
       "             scoring='accuracy', verbose=3)"
      ]
     },
     "execution_count": 42,
     "metadata": {},
     "output_type": "execute_result"
    }
   ],
   "source": [
    "from sklearn.neighbors import KNeighborsClassifier\n",
    "\n",
    "# testing 1-10 neighbors (as we're looking for digits)\n",
    "KNN_param_grid = {'n_neighbors': np.arange(1,11)}\n",
    "\n",
    "KNN_grid_search = GridSearchCV(KNeighborsClassifier(), KNN_param_grid, cv=5, \n",
    "                               scoring='accuracy', verbose=3)\n",
    "\n",
    "KNN_grid_search.fit(X_train, y_train)"
   ]
  },
  {
   "cell_type": "code",
   "execution_count": 43,
   "metadata": {},
   "outputs": [
    {
     "data": {
      "text/plain": [
       "0.9844444444444445"
      ]
     },
     "execution_count": 43,
     "metadata": {},
     "output_type": "execute_result"
    }
   ],
   "source": [
    "KNN_grid_search.score(X_test, y_test)"
   ]
  },
  {
   "cell_type": "code",
   "execution_count": 44,
   "metadata": {},
   "outputs": [
    {
     "data": {
      "text/plain": [
       "{'n_neighbors': 1}"
      ]
     },
     "execution_count": 44,
     "metadata": {},
     "output_type": "execute_result"
    }
   ],
   "source": [
    "KNN_grid_search.best_params_"
   ]
  },
  {
   "cell_type": "code",
   "execution_count": 46,
   "metadata": {},
   "outputs": [
    {
     "data": {
      "text/plain": [
       "0.985894580549369"
      ]
     },
     "execution_count": 46,
     "metadata": {},
     "output_type": "execute_result"
    }
   ],
   "source": [
    "KNN_grid_search.best_score_"
   ]
  },
  {
   "cell_type": "code",
   "execution_count": 47,
   "metadata": {},
   "outputs": [
    {
     "name": "stdout",
     "output_type": "stream",
     "text": [
      "Fitting 5 folds for each of 20 candidates, totalling 100 fits\n",
      "[CV] n_neighbors=1, weights=uniform ..................................\n",
      "[CV] ...... n_neighbors=1, weights=uniform, score=0.989, total=   0.0s\n",
      "[CV] n_neighbors=1, weights=uniform ..................................\n",
      "[CV] ...... n_neighbors=1, weights=uniform, score=0.985, total=   0.0s\n",
      "[CV] n_neighbors=1, weights=uniform ..................................\n",
      "[CV] ...... n_neighbors=1, weights=uniform, score=0.989, total=   0.0s\n",
      "[CV] n_neighbors=1, weights=uniform ..................................\n",
      "[CV] ...... n_neighbors=1, weights=uniform, score=0.981, total=   0.0s\n",
      "[CV] n_neighbors=1, weights=uniform ..................................\n",
      "[CV] ...... n_neighbors=1, weights=uniform, score=0.985, total=   0.0s\n",
      "[CV] n_neighbors=1, weights=distance .................................\n"
     ]
    },
    {
     "name": "stderr",
     "output_type": "stream",
     "text": [
      "[Parallel(n_jobs=1)]: Using backend SequentialBackend with 1 concurrent workers.\n",
      "[Parallel(n_jobs=1)]: Done   1 out of   1 | elapsed:    0.0s remaining:    0.0s\n",
      "[Parallel(n_jobs=1)]: Done   2 out of   2 | elapsed:    0.0s remaining:    0.0s\n"
     ]
    },
    {
     "name": "stdout",
     "output_type": "stream",
     "text": [
      "[CV] ..... n_neighbors=1, weights=distance, score=0.989, total=   0.0s\n",
      "[CV] n_neighbors=1, weights=distance .................................\n",
      "[CV] ..... n_neighbors=1, weights=distance, score=0.985, total=   0.0s\n",
      "[CV] n_neighbors=1, weights=distance .................................\n",
      "[CV] ..... n_neighbors=1, weights=distance, score=0.989, total=   0.0s\n",
      "[CV] n_neighbors=1, weights=distance .................................\n",
      "[CV] ..... n_neighbors=1, weights=distance, score=0.981, total=   0.0s\n",
      "[CV] n_neighbors=1, weights=distance .................................\n",
      "[CV] ..... n_neighbors=1, weights=distance, score=0.985, total=   0.0s\n",
      "[CV] n_neighbors=2, weights=uniform ..................................\n",
      "[CV] ...... n_neighbors=2, weights=uniform, score=0.985, total=   0.0s\n",
      "[CV] n_neighbors=2, weights=uniform ..................................\n",
      "[CV] ...... n_neighbors=2, weights=uniform, score=0.982, total=   0.0s\n",
      "[CV] n_neighbors=2, weights=uniform ..................................\n",
      "[CV] ...... n_neighbors=2, weights=uniform, score=0.981, total=   0.0s\n",
      "[CV] n_neighbors=2, weights=uniform ..................................\n",
      "[CV] ...... n_neighbors=2, weights=uniform, score=0.977, total=   0.0s\n",
      "[CV] n_neighbors=2, weights=uniform ..................................\n",
      "[CV] ...... n_neighbors=2, weights=uniform, score=0.981, total=   0.0s\n",
      "[CV] n_neighbors=2, weights=distance .................................\n",
      "[CV] ..... n_neighbors=2, weights=distance, score=0.989, total=   0.0s\n",
      "[CV] n_neighbors=2, weights=distance .................................\n",
      "[CV] ..... n_neighbors=2, weights=distance, score=0.985, total=   0.0s\n",
      "[CV] n_neighbors=2, weights=distance .................................\n",
      "[CV] ..... n_neighbors=2, weights=distance, score=0.989, total=   0.0s\n",
      "[CV] n_neighbors=2, weights=distance .................................\n",
      "[CV] ..... n_neighbors=2, weights=distance, score=0.981, total=   0.0s\n",
      "[CV] n_neighbors=2, weights=distance .................................\n",
      "[CV] ..... n_neighbors=2, weights=distance, score=0.985, total=   0.0s\n",
      "[CV] n_neighbors=3, weights=uniform ..................................\n",
      "[CV] ...... n_neighbors=3, weights=uniform, score=0.993, total=   0.0s\n",
      "[CV] n_neighbors=3, weights=uniform ..................................\n",
      "[CV] ...... n_neighbors=3, weights=uniform, score=0.989, total=   0.0s\n",
      "[CV] n_neighbors=3, weights=uniform ..................................\n",
      "[CV] ...... n_neighbors=3, weights=uniform, score=0.989, total=   0.0s\n",
      "[CV] n_neighbors=3, weights=uniform ..................................\n",
      "[CV] ...... n_neighbors=3, weights=uniform, score=0.974, total=   0.0s\n",
      "[CV] n_neighbors=3, weights=uniform ..................................\n",
      "[CV] ...... n_neighbors=3, weights=uniform, score=0.985, total=   0.0s\n",
      "[CV] n_neighbors=3, weights=distance .................................\n",
      "[CV] ..... n_neighbors=3, weights=distance, score=0.989, total=   0.0s\n",
      "[CV] n_neighbors=3, weights=distance .................................\n",
      "[CV] ..... n_neighbors=3, weights=distance, score=0.989, total=   0.0s\n",
      "[CV] n_neighbors=3, weights=distance .................................\n",
      "[CV] ..... n_neighbors=3, weights=distance, score=0.989, total=   0.0s\n",
      "[CV] n_neighbors=3, weights=distance .................................\n",
      "[CV] ..... n_neighbors=3, weights=distance, score=0.977, total=   0.0s\n",
      "[CV] n_neighbors=3, weights=distance .................................\n",
      "[CV] ..... n_neighbors=3, weights=distance, score=0.985, total=   0.0s\n",
      "[CV] n_neighbors=4, weights=uniform ..................................\n",
      "[CV] ...... n_neighbors=4, weights=uniform, score=0.978, total=   0.0s\n",
      "[CV] n_neighbors=4, weights=uniform ..................................\n",
      "[CV] ...... n_neighbors=4, weights=uniform, score=0.989, total=   0.0s\n",
      "[CV] n_neighbors=4, weights=uniform ..................................\n",
      "[CV] ...... n_neighbors=4, weights=uniform, score=0.981, total=   0.0s\n",
      "[CV] n_neighbors=4, weights=uniform ..................................\n",
      "[CV] ...... n_neighbors=4, weights=uniform, score=0.974, total=   0.0s\n",
      "[CV] n_neighbors=4, weights=uniform ..................................\n",
      "[CV] ...... n_neighbors=4, weights=uniform, score=0.981, total=   0.0s\n",
      "[CV] n_neighbors=4, weights=distance .................................\n",
      "[CV] ..... n_neighbors=4, weights=distance, score=0.985, total=   0.0s\n",
      "[CV] n_neighbors=4, weights=distance .................................\n",
      "[CV] ..... n_neighbors=4, weights=distance, score=0.989, total=   0.0s\n",
      "[CV] n_neighbors=4, weights=distance .................................\n",
      "[CV] ..... n_neighbors=4, weights=distance, score=0.989, total=   0.0s\n",
      "[CV] n_neighbors=4, weights=distance .................................\n",
      "[CV] ..... n_neighbors=4, weights=distance, score=0.977, total=   0.0s\n",
      "[CV] n_neighbors=4, weights=distance .................................\n",
      "[CV] ..... n_neighbors=4, weights=distance, score=0.985, total=   0.0s\n",
      "[CV] n_neighbors=5, weights=uniform ..................................\n",
      "[CV] ...... n_neighbors=5, weights=uniform, score=0.978, total=   0.0s\n",
      "[CV] n_neighbors=5, weights=uniform ..................................\n",
      "[CV] ...... n_neighbors=5, weights=uniform, score=0.989, total=   0.0s\n",
      "[CV] n_neighbors=5, weights=uniform ..................................\n",
      "[CV] ...... n_neighbors=5, weights=uniform, score=0.981, total=   0.0s\n",
      "[CV] n_neighbors=5, weights=uniform ..................................\n",
      "[CV] ...... n_neighbors=5, weights=uniform, score=0.974, total=   0.0s\n",
      "[CV] n_neighbors=5, weights=uniform ..................................\n",
      "[CV] ...... n_neighbors=5, weights=uniform, score=0.981, total=   0.0s\n",
      "[CV] n_neighbors=5, weights=distance .................................\n",
      "[CV] ..... n_neighbors=5, weights=distance, score=0.978, total=   0.0s\n",
      "[CV] n_neighbors=5, weights=distance .................................\n",
      "[CV] ..... n_neighbors=5, weights=distance, score=0.989, total=   0.0s\n",
      "[CV] n_neighbors=5, weights=distance .................................\n",
      "[CV] ..... n_neighbors=5, weights=distance, score=0.981, total=   0.0s\n",
      "[CV] n_neighbors=5, weights=distance .................................\n",
      "[CV] ..... n_neighbors=5, weights=distance, score=0.974, total=   0.0s\n",
      "[CV] n_neighbors=5, weights=distance .................................\n",
      "[CV] ..... n_neighbors=5, weights=distance, score=0.985, total=   0.0s\n",
      "[CV] n_neighbors=6, weights=uniform ..................................\n",
      "[CV] ...... n_neighbors=6, weights=uniform, score=0.978, total=   0.0s\n",
      "[CV] n_neighbors=6, weights=uniform ..................................\n",
      "[CV] ...... n_neighbors=6, weights=uniform, score=0.989, total=   0.0s\n",
      "[CV] n_neighbors=6, weights=uniform ..................................\n",
      "[CV] ...... n_neighbors=6, weights=uniform, score=0.981, total=   0.0s\n",
      "[CV] n_neighbors=6, weights=uniform ..................................\n",
      "[CV] ...... n_neighbors=6, weights=uniform, score=0.970, total=   0.0s\n",
      "[CV] n_neighbors=6, weights=uniform ..................................\n",
      "[CV] ...... n_neighbors=6, weights=uniform, score=0.985, total=   0.0s\n",
      "[CV] n_neighbors=6, weights=distance .................................\n",
      "[CV] ..... n_neighbors=6, weights=distance, score=0.978, total=   0.0s\n",
      "[CV] n_neighbors=6, weights=distance .................................\n",
      "[CV] ..... n_neighbors=6, weights=distance, score=0.989, total=   0.0s\n",
      "[CV] n_neighbors=6, weights=distance .................................\n",
      "[CV] ..... n_neighbors=6, weights=distance, score=0.989, total=   0.0s\n",
      "[CV] n_neighbors=6, weights=distance .................................\n",
      "[CV] ..... n_neighbors=6, weights=distance, score=0.977, total=   0.0s\n",
      "[CV] n_neighbors=6, weights=distance .................................\n",
      "[CV] ..... n_neighbors=6, weights=distance, score=0.985, total=   0.0s\n",
      "[CV] n_neighbors=7, weights=uniform ..................................\n",
      "[CV] ...... n_neighbors=7, weights=uniform, score=0.978, total=   0.0s\n",
      "[CV] n_neighbors=7, weights=uniform ..................................\n",
      "[CV] ...... n_neighbors=7, weights=uniform, score=0.993, total=   0.0s\n",
      "[CV] n_neighbors=7, weights=uniform ..................................\n",
      "[CV] ...... n_neighbors=7, weights=uniform, score=0.978, total=   0.0s\n",
      "[CV] n_neighbors=7, weights=uniform ..................................\n",
      "[CV] ...... n_neighbors=7, weights=uniform, score=0.966, total=   0.0s\n",
      "[CV] n_neighbors=7, weights=uniform ..................................\n"
     ]
    },
    {
     "name": "stdout",
     "output_type": "stream",
     "text": [
      "[CV] ...... n_neighbors=7, weights=uniform, score=0.985, total=   0.0s\n",
      "[CV] n_neighbors=7, weights=distance .................................\n",
      "[CV] ..... n_neighbors=7, weights=distance, score=0.978, total=   0.0s\n",
      "[CV] n_neighbors=7, weights=distance .................................\n",
      "[CV] ..... n_neighbors=7, weights=distance, score=0.993, total=   0.0s\n",
      "[CV] n_neighbors=7, weights=distance .................................\n",
      "[CV] ..... n_neighbors=7, weights=distance, score=0.978, total=   0.0s\n",
      "[CV] n_neighbors=7, weights=distance .................................\n",
      "[CV] ..... n_neighbors=7, weights=distance, score=0.966, total=   0.0s\n",
      "[CV] n_neighbors=7, weights=distance .................................\n",
      "[CV] ..... n_neighbors=7, weights=distance, score=0.985, total=   0.0s\n",
      "[CV] n_neighbors=8, weights=uniform ..................................\n",
      "[CV] ...... n_neighbors=8, weights=uniform, score=0.978, total=   0.0s\n",
      "[CV] n_neighbors=8, weights=uniform ..................................\n",
      "[CV] ...... n_neighbors=8, weights=uniform, score=0.989, total=   0.0s\n",
      "[CV] n_neighbors=8, weights=uniform ..................................\n",
      "[CV] ...... n_neighbors=8, weights=uniform, score=0.978, total=   0.0s\n",
      "[CV] n_neighbors=8, weights=uniform ..................................\n",
      "[CV] ...... n_neighbors=8, weights=uniform, score=0.970, total=   0.0s\n",
      "[CV] n_neighbors=8, weights=uniform ..................................\n",
      "[CV] ...... n_neighbors=8, weights=uniform, score=0.985, total=   0.0s\n",
      "[CV] n_neighbors=8, weights=distance .................................\n",
      "[CV] ..... n_neighbors=8, weights=distance, score=0.978, total=   0.0s\n",
      "[CV] n_neighbors=8, weights=distance .................................\n",
      "[CV] ..... n_neighbors=8, weights=distance, score=0.989, total=   0.0s\n",
      "[CV] n_neighbors=8, weights=distance .................................\n",
      "[CV] ..... n_neighbors=8, weights=distance, score=0.981, total=   0.0s\n",
      "[CV] n_neighbors=8, weights=distance .................................\n",
      "[CV] ..... n_neighbors=8, weights=distance, score=0.974, total=   0.0s\n",
      "[CV] n_neighbors=8, weights=distance .................................\n",
      "[CV] ..... n_neighbors=8, weights=distance, score=0.985, total=   0.0s\n",
      "[CV] n_neighbors=9, weights=uniform ..................................\n",
      "[CV] ...... n_neighbors=9, weights=uniform, score=0.975, total=   0.0s\n",
      "[CV] n_neighbors=9, weights=uniform ..................................\n",
      "[CV] ...... n_neighbors=9, weights=uniform, score=0.993, total=   0.0s\n",
      "[CV] n_neighbors=9, weights=uniform ..................................\n",
      "[CV] ...... n_neighbors=9, weights=uniform, score=0.985, total=   0.0s\n",
      "[CV] n_neighbors=9, weights=uniform ..................................\n",
      "[CV] ...... n_neighbors=9, weights=uniform, score=0.977, total=   0.0s\n",
      "[CV] n_neighbors=9, weights=uniform ..................................\n",
      "[CV] ...... n_neighbors=9, weights=uniform, score=0.985, total=   0.0s\n",
      "[CV] n_neighbors=9, weights=distance .................................\n",
      "[CV] ..... n_neighbors=9, weights=distance, score=0.975, total=   0.0s\n",
      "[CV] n_neighbors=9, weights=distance .................................\n",
      "[CV] ..... n_neighbors=9, weights=distance, score=0.993, total=   0.0s\n",
      "[CV] n_neighbors=9, weights=distance .................................\n",
      "[CV] ..... n_neighbors=9, weights=distance, score=0.985, total=   0.0s\n",
      "[CV] n_neighbors=9, weights=distance .................................\n",
      "[CV] ..... n_neighbors=9, weights=distance, score=0.981, total=   0.0s\n",
      "[CV] n_neighbors=9, weights=distance .................................\n",
      "[CV] ..... n_neighbors=9, weights=distance, score=0.985, total=   0.0s\n",
      "[CV] n_neighbors=10, weights=uniform .................................\n",
      "[CV] ..... n_neighbors=10, weights=uniform, score=0.971, total=   0.0s\n",
      "[CV] n_neighbors=10, weights=uniform .................................\n",
      "[CV] ..... n_neighbors=10, weights=uniform, score=0.989, total=   0.0s\n",
      "[CV] n_neighbors=10, weights=uniform .................................\n",
      "[CV] ..... n_neighbors=10, weights=uniform, score=0.974, total=   0.0s\n",
      "[CV] n_neighbors=10, weights=uniform .................................\n",
      "[CV] ..... n_neighbors=10, weights=uniform, score=0.977, total=   0.0s\n",
      "[CV] n_neighbors=10, weights=uniform .................................\n",
      "[CV] ..... n_neighbors=10, weights=uniform, score=0.985, total=   0.0s\n",
      "[CV] n_neighbors=10, weights=distance ................................\n",
      "[CV] .... n_neighbors=10, weights=distance, score=0.971, total=   0.0s\n",
      "[CV] n_neighbors=10, weights=distance ................................\n",
      "[CV] .... n_neighbors=10, weights=distance, score=0.989, total=   0.0s\n",
      "[CV] n_neighbors=10, weights=distance ................................\n",
      "[CV] .... n_neighbors=10, weights=distance, score=0.978, total=   0.0s\n",
      "[CV] n_neighbors=10, weights=distance ................................\n",
      "[CV] .... n_neighbors=10, weights=distance, score=0.977, total=   0.0s\n",
      "[CV] n_neighbors=10, weights=distance ................................\n",
      "[CV] .... n_neighbors=10, weights=distance, score=0.985, total=   0.0s\n"
     ]
    },
    {
     "name": "stderr",
     "output_type": "stream",
     "text": [
      "[Parallel(n_jobs=1)]: Done 100 out of 100 | elapsed:    3.8s finished\n"
     ]
    },
    {
     "data": {
      "text/plain": [
       "GridSearchCV(cv=5, estimator=KNeighborsClassifier(),\n",
       "             param_grid={'n_neighbors': array([ 1,  2,  3,  4,  5,  6,  7,  8,  9, 10]),\n",
       "                         'weights': ['uniform', 'distance']},\n",
       "             scoring='accuracy', verbose=3)"
      ]
     },
     "execution_count": 47,
     "metadata": {},
     "output_type": "execute_result"
    }
   ],
   "source": [
    "# Another parameter besides k that we might vary is the weights parameters\n",
    "# default options --> uniform (all points in the neighborhood are weighted equally)\n",
    "# another option --> distance (weights closer neighbors more heavily than further neighbors)\n",
    "KNN_param_grid = {'n_neighbors': np.arange(1,11),\n",
    "                  'weights': ['uniform', 'distance']}\n",
    "\n",
    "KNN_grid_search = GridSearchCV(KNeighborsClassifier(), KNN_param_grid, cv=5, \n",
    "                               scoring='accuracy', verbose=3)\n",
    "\n",
    "KNN_grid_search.fit(X_train, y_train)"
   ]
  },
  {
   "cell_type": "code",
   "execution_count": 48,
   "metadata": {},
   "outputs": [
    {
     "data": {
      "text/plain": [
       "0.9844444444444445"
      ]
     },
     "execution_count": 48,
     "metadata": {},
     "output_type": "execute_result"
    }
   ],
   "source": [
    "KNN_grid_search.score(X_test, y_test)"
   ]
  },
  {
   "cell_type": "code",
   "execution_count": 49,
   "metadata": {},
   "outputs": [
    {
     "data": {
      "text/plain": [
       "{'n_neighbors': 1, 'weights': 'uniform'}"
      ]
     },
     "execution_count": 49,
     "metadata": {},
     "output_type": "execute_result"
    }
   ],
   "source": [
    "KNN_grid_search.best_params_"
   ]
  },
  {
   "cell_type": "code",
   "execution_count": 51,
   "metadata": {},
   "outputs": [
    {
     "data": {
      "text/plain": [
       "0.985894580549369"
      ]
     },
     "execution_count": 51,
     "metadata": {},
     "output_type": "execute_result"
    }
   ],
   "source": [
    "KNN_grid_search.best_score_"
   ]
  },
  {
   "cell_type": "markdown",
   "metadata": {},
   "source": [
    "Looks like the default `uniform` weight option was the best - womp.\n",
    "\n",
    "## Solution"
   ]
  },
  {
   "cell_type": "code",
   "execution_count": 53,
   "metadata": {},
   "outputs": [
    {
     "name": "stderr",
     "output_type": "stream",
     "text": [
      "C:\\Users\\jfields\\AppData\\Local\\Continuum\\anaconda3\\lib\\site-packages\\sklearn\\model_selection\\_split.py:1978: FutureWarning: The default value of cv will change from 3 to 5 in version 0.22. Specify it explicitly to silence this warning.\n",
      "  warnings.warn(CV_WARNING, FutureWarning)\n"
     ]
    },
    {
     "name": "stdout",
     "output_type": "stream",
     "text": [
      "best parameters: {'n_neighbors': 1}\n",
      "Training set accuracy: 1.0\n",
      "Test set accuracy: 0.9844444444444445\n"
     ]
    },
    {
     "data": {
      "text/plain": [
       "<matplotlib.legend.Legend at 0x1197e0f8f98>"
      ]
     },
     "execution_count": 53,
     "metadata": {},
     "output_type": "execute_result"
    },
    {
     "data": {
      "image/png": "[encoded data removed]",
      "text/plain": [
       "<Figure size 432x288 with 1 Axes>"
      ]
     },
     "metadata": {
      "needs_background": "light"
     },
     "output_type": "display_data"
    }
   ],
   "source": [
    "param_grid = {'n_neighbors': [1, 3, 5, 7, 10]}\n",
    "\n",
    "grid = GridSearchCV(KNeighborsClassifier(), param_grid=param_grid,\n",
    "                    return_train_score=True)\n",
    "grid.fit(X_train, y_train)\n",
    "\n",
    "print(\"best parameters: %s\" % grid.best_params_)\n",
    "print(\"Training set accuracy: %s\" % grid.score(X_train, y_train))\n",
    "print(\"Test set accuracy: %s\" % grid.score(X_test, y_test))\n",
    "results = grid.cv_results_\n",
    "plt.plot(param_grid['n_neighbors'], results['mean_train_score'], label=\"train\")\n",
    "plt.plot(param_grid['n_neighbors'], results['mean_test_score'], label=\"test\")\n",
    "plt.legend()"
   ]
  }
 ],
 "metadata": {
  "anaconda-cloud": {},
  "kernelspec": {
   "display_name": "Python 3",
   "language": "python",
   "name": "python3"
  },
  "language_info": {
   "codemirror_mode": {
    "name": "ipython",
    "version": 3
   },
   "file_extension": ".py",
   "mimetype": "text/x-python",
   "name": "python",
   "nbconvert_exporter": "python",
   "pygments_lexer": "ipython3",
   "version": "3.6.0"
  }
 },
 "nbformat": 4,
 "nbformat_minor": 2
}

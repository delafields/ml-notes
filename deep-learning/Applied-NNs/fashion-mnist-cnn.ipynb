{
 "cells": [
  {
   "cell_type": "markdown",
   "metadata": {},
   "source": [
    "This is yet another fashion mnist classifier, this time using CNNs. From this [wanb lesson](https://www.youtube.com/watch?v=wzy8jI-duEQ)."
   ]
  },
  {
   "cell_type": "code",
   "execution_count": 1,
   "metadata": {},
   "outputs": [
    {
     "name": "stderr",
     "output_type": "stream",
     "text": [
      "Using TensorFlow backend.\n"
     ]
    }
   ],
   "source": [
    "# import packages\n",
    "from keras.utils import to_categorical\n",
    "from keras.datasets import fashion_mnist\n",
    "from keras.models import Sequential\n",
    "from keras.layers import Dense, Flatten, Conv2D, MaxPooling2D, Reshape, Dropout"
   ]
  },
  {
   "cell_type": "code",
   "execution_count": 2,
   "metadata": {},
   "outputs": [],
   "source": [
    "# load data\n",
    "(X_train, y_train), (X_test, y_test) = fashion_mnist.load_data()\n",
    "img_width  = X_train.shape[1]\n",
    "img_height = X_train.shape[0]\n",
    "\n",
    "# one hot encode outputs\n",
    "y_train = to_categorical(y_train)\n",
    "y_test  = to_categorical(y_test)\n",
    "labels = [\"T-shirt/top\", \"Trouser\", \"Pullover\", \"Dress\",\n",
    "          \"Coat\", \"Sandal\", \"Shirt\", \"Sneaker\", \"Bag\", \"Ankle boot\"]"
   ]
  },
  {
   "cell_type": "code",
   "execution_count": 5,
   "metadata": {},
   "outputs": [],
   "source": [
    "# set config variables\n",
    "config = {\n",
    "    'img_width': 28,\n",
    "    'img_height': 28,\n",
    "    'conv1_width':  3,\n",
    "    'conv1_height': 3,\n",
    "    'dense_layer_size': 100,\n",
    "    'epochs': 4\n",
    "    }"
   ]
  },
  {
   "cell_type": "code",
   "execution_count": 6,
   "metadata": {},
   "outputs": [],
   "source": [
    "# normalize the images\n",
    "X_train = X_train / 255.\n",
    "X_text  = X_test / 255."
   ]
  },
  {
   "cell_type": "code",
   "execution_count": 8,
   "metadata": {},
   "outputs": [],
   "source": [
    "# reshape the input data\n",
    "X_train = X_train.reshape(X_train.shape[0], config['img_width'], config['img_height'], 1)\n",
    "X_test = X_test.reshape(X_test.shape[0], config['img_width'], config['img_height'], 1)"
   ]
  },
  {
   "cell_type": "code",
   "execution_count": 9,
   "metadata": {},
   "outputs": [],
   "source": [
    "num_classes = y_train.shape[1]"
   ]
  },
  {
   "cell_type": "code",
   "execution_count": 10,
   "metadata": {},
   "outputs": [
    {
     "name": "stderr",
     "output_type": "stream",
     "text": [
      "WARNING: Logging before flag parsing goes to stderr.\n",
      "W0926 14:06:11.717650 36284 deprecation_wrapper.py:119] From C:\\Users\\jfields\\.conda\\envs\\keras-cpu\\lib\\site-packages\\keras\\backend\\tensorflow_backend.py:74: The name tf.get_default_graph is deprecated. Please use tf.compat.v1.get_default_graph instead.\n",
      "\n",
      "W0926 14:06:11.737703 36284 deprecation_wrapper.py:119] From C:\\Users\\jfields\\.conda\\envs\\keras-cpu\\lib\\site-packages\\keras\\backend\\tensorflow_backend.py:517: The name tf.placeholder is deprecated. Please use tf.compat.v1.placeholder instead.\n",
      "\n",
      "W0926 14:06:11.742716 36284 deprecation_wrapper.py:119] From C:\\Users\\jfields\\.conda\\envs\\keras-cpu\\lib\\site-packages\\keras\\backend\\tensorflow_backend.py:4138: The name tf.random_uniform is deprecated. Please use tf.random.uniform instead.\n",
      "\n",
      "W0926 14:06:11.772795 36284 deprecation_wrapper.py:119] From C:\\Users\\jfields\\.conda\\envs\\keras-cpu\\lib\\site-packages\\keras\\backend\\tensorflow_backend.py:3976: The name tf.nn.max_pool is deprecated. Please use tf.nn.max_pool2d instead.\n",
      "\n"
     ]
    }
   ],
   "source": [
    "# build model\n",
    "model = Sequential()\n",
    "model.add(Conv2D(32,\n",
    "          (config['conv1_width'],config['conv1_height']),\n",
    "          input_shape=(28,28,1),\n",
    "          activation='relu'))\n",
    "model.add(MaxPooling2D(pool_size=(2,2)))\n",
    "model.add(Flatten())\n",
    "model.add(Dense(config['dense_layer_size'], activation='relu'))\n",
    "model.add(Dense(num_classes, activation='softmax'))"
   ]
  },
  {
   "cell_type": "code",
   "execution_count": 11,
   "metadata": {},
   "outputs": [
    {
     "name": "stderr",
     "output_type": "stream",
     "text": [
      "W0926 14:06:13.929063 36284 deprecation_wrapper.py:119] From C:\\Users\\jfields\\.conda\\envs\\keras-cpu\\lib\\site-packages\\keras\\optimizers.py:790: The name tf.train.Optimizer is deprecated. Please use tf.compat.v1.train.Optimizer instead.\n",
      "\n",
      "W0926 14:06:13.957149 36284 deprecation_wrapper.py:119] From C:\\Users\\jfields\\.conda\\envs\\keras-cpu\\lib\\site-packages\\keras\\backend\\tensorflow_backend.py:3295: The name tf.log is deprecated. Please use tf.math.log instead.\n",
      "\n"
     ]
    },
    {
     "name": "stdout",
     "output_type": "stream",
     "text": [
      "_________________________________________________________________\n",
      "Layer (type)                 Output Shape              Param #   \n",
      "=================================================================\n",
      "conv2d_1 (Conv2D)            (None, 26, 26, 32)        320       \n",
      "_________________________________________________________________\n",
      "max_pooling2d_1 (MaxPooling2 (None, 13, 13, 32)        0         \n",
      "_________________________________________________________________\n",
      "flatten_1 (Flatten)          (None, 5408)              0         \n",
      "_________________________________________________________________\n",
      "dense_1 (Dense)              (None, 100)               540900    \n",
      "_________________________________________________________________\n",
      "dense_2 (Dense)              (None, 10)                1010      \n",
      "=================================================================\n",
      "Total params: 542,230\n",
      "Trainable params: 542,230\n",
      "Non-trainable params: 0\n",
      "_________________________________________________________________\n"
     ]
    }
   ],
   "source": [
    "model.compile(loss='categorical_crossentropy', optimizer='adam', metrics=['accuracy'])\n",
    "model.summary()"
   ]
  },
  {
   "cell_type": "code",
   "execution_count": 12,
   "metadata": {},
   "outputs": [
    {
     "name": "stderr",
     "output_type": "stream",
     "text": [
      "W0926 14:06:17.738280 36284 deprecation.py:323] From C:\\Users\\jfields\\AppData\\Roaming\\Python\\Python37\\site-packages\\tensorflow\\python\\ops\\math_grad.py:1250: add_dispatch_support.<locals>.wrapper (from tensorflow.python.ops.array_ops) is deprecated and will be removed in a future version.\n",
      "Instructions for updating:\n",
      "Use tf.where in 2.0, which has the same broadcast rule as np.where\n",
      "W0926 14:06:17.801447 36284 deprecation_wrapper.py:119] From C:\\Users\\jfields\\.conda\\envs\\keras-cpu\\lib\\site-packages\\keras\\backend\\tensorflow_backend.py:986: The name tf.assign_add is deprecated. Please use tf.compat.v1.assign_add instead.\n",
      "\n"
     ]
    },
    {
     "name": "stdout",
     "output_type": "stream",
     "text": [
      "Train on 60000 samples, validate on 10000 samples\n",
      "Epoch 1/4\n",
      "60000/60000 [==============================] - 53s 887us/step - loss: 0.3936 - acc: 0.8603 - val_loss: 2.2051 - val_acc: 0.8610\n",
      "Epoch 2/4\n",
      "60000/60000 [==============================] - 53s 882us/step - loss: 0.2658 - acc: 0.9036 - val_loss: 2.1346 - val_acc: 0.8646\n",
      "Epoch 3/4\n",
      "60000/60000 [==============================] - 58s 974us/step - loss: 0.2224 - acc: 0.9180 - val_loss: 2.3249 - val_acc: 0.8542\n",
      "Epoch 4/4\n",
      "60000/60000 [==============================] - 48s 794us/step - loss: 0.1908 - acc: 0.9303 - val_loss: 1.9628 - val_acc: 0.8767\n"
     ]
    },
    {
     "data": {
      "text/plain": [
       "<keras.callbacks.History at 0x1f93264d388>"
      ]
     },
     "execution_count": 12,
     "metadata": {},
     "output_type": "execute_result"
    }
   ],
   "source": [
    "model.fit(X_train, y_train, validation_data = (X_test, y_test), epochs = config['epochs'])"
   ]
  },
  {
   "cell_type": "markdown",
   "metadata": {},
   "source": [
    "Let's run that same model, now with Dropout between layers with a free parameter:"
   ]
  },
  {
   "cell_type": "code",
   "execution_count": 13,
   "metadata": {},
   "outputs": [
    {
     "name": "stderr",
     "output_type": "stream",
     "text": [
      "W0926 15:11:55.271021 36284 deprecation.py:506] From C:\\Users\\jfields\\.conda\\envs\\keras-cpu\\lib\\site-packages\\keras\\backend\\tensorflow_backend.py:3445: calling dropout (from tensorflow.python.ops.nn_ops) with keep_prob is deprecated and will be removed in a future version.\n",
      "Instructions for updating:\n",
      "Please use `rate` instead of `keep_prob`. Rate should be set to `rate = 1 - keep_prob`.\n"
     ]
    }
   ],
   "source": [
    "# build model\n",
    "model2 = Sequential()\n",
    "model2.add(Conv2D(32,\n",
    "          (config['conv1_width'],config['conv1_height']),\n",
    "          input_shape=(28,28,1),\n",
    "          activation='relu'))\n",
    "model2.add(MaxPooling2D(pool_size=(2,2)))\n",
    "model2.add(Flatten())\n",
    "model2.add(Dropout(0.4))\n",
    "model2.add(Dense(config['dense_layer_size'], activation='relu'))\n",
    "model2.add(Dropout(0.4))\n",
    "model2.add(Dense(num_classes, activation='softmax'))"
   ]
  },
  {
   "cell_type": "code",
   "execution_count": 14,
   "metadata": {},
   "outputs": [
    {
     "name": "stdout",
     "output_type": "stream",
     "text": [
      "_________________________________________________________________\n",
      "Layer (type)                 Output Shape              Param #   \n",
      "=================================================================\n",
      "conv2d_2 (Conv2D)            (None, 26, 26, 32)        320       \n",
      "_________________________________________________________________\n",
      "max_pooling2d_2 (MaxPooling2 (None, 13, 13, 32)        0         \n",
      "_________________________________________________________________\n",
      "flatten_2 (Flatten)          (None, 5408)              0         \n",
      "_________________________________________________________________\n",
      "dropout_1 (Dropout)          (None, 5408)              0         \n",
      "_________________________________________________________________\n",
      "dense_3 (Dense)              (None, 100)               540900    \n",
      "_________________________________________________________________\n",
      "dropout_2 (Dropout)          (None, 100)               0         \n",
      "_________________________________________________________________\n",
      "dense_4 (Dense)              (None, 10)                1010      \n",
      "=================================================================\n",
      "Total params: 542,230\n",
      "Trainable params: 542,230\n",
      "Non-trainable params: 0\n",
      "_________________________________________________________________\n"
     ]
    }
   ],
   "source": [
    "model2.compile(loss='categorical_crossentropy', optimizer='adam', metrics=['accuracy'])\n",
    "model2.summary()"
   ]
  },
  {
   "cell_type": "code",
   "execution_count": 15,
   "metadata": {},
   "outputs": [
    {
     "name": "stdout",
     "output_type": "stream",
     "text": [
      "Train on 60000 samples, validate on 10000 samples\n",
      "Epoch 1/4\n",
      "60000/60000 [==============================] - 60s 999us/step - loss: 0.4835 - acc: 0.8288 - val_loss: 2.1711 - val_acc: 0.8612\n",
      "Epoch 2/4\n",
      "60000/60000 [==============================] - 55s 922us/step - loss: 0.3499 - acc: 0.8757 - val_loss: 2.0047 - val_acc: 0.8711\n",
      "Epoch 3/4\n",
      "60000/60000 [==============================] - 56s 928us/step - loss: 0.3167 - acc: 0.8854 - val_loss: 2.4170 - val_acc: 0.8468\n",
      "Epoch 4/4\n",
      "60000/60000 [==============================] - 58s 964us/step - loss: 0.2962 - acc: 0.8934 - val_loss: 2.1374 - val_acc: 0.8636\n"
     ]
    },
    {
     "data": {
      "text/plain": [
       "<keras.callbacks.History at 0x1f9344b0088>"
      ]
     },
     "execution_count": 15,
     "metadata": {},
     "output_type": "execute_result"
    }
   ],
   "source": [
    "model2.fit(X_train, y_train, validation_data = (X_test, y_test), epochs = config['epochs'])"
   ]
  }
 ],
 "metadata": {
  "kernelspec": {
   "display_name": "Python (keras-cpu)",
   "language": "python",
   "name": "keras-cpu"
  },
  "language_info": {
   "codemirror_mode": {
    "name": "ipython",
    "version": 3
   },
   "file_extension": ".py",
   "mimetype": "text/x-python",
   "name": "python",
   "nbconvert_exporter": "python",
   "pygments_lexer": "ipython3",
   "version": "3.7.4"
  }
 },
 "nbformat": 4,
 "nbformat_minor": 2
}

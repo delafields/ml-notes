{
 "cells": [
  {
   "cell_type": "markdown",
   "metadata": {},
   "source": [
    "### Recurrent Neural Networks\n",
    "\n",
    "This from a great little lesson by the folks at [wandb](https://www.youtube.com/watch?v=8lbGjKhrJOo).\n",
    "\n",
    "RNNs are great for data with time as a factor (time series).\n",
    "\n",
    "The specific data set we'll be working on is a small csv of daily minimum temperature in Melbourne over a period of 10 years."
   ]
  },
  {
   "cell_type": "code",
   "execution_count": 19,
   "metadata": {},
   "outputs": [],
   "source": [
    "# import packages\n",
    "import numpy as np\n",
    "import pandas as pd\n",
    "\n",
    "from keras.models import Sequential\n",
    "from keras.layers import Dense, Flatten\n",
    "from keras.layers import CuDNNLSTM, LSTM, SimpleRNN, Dropout\n",
    "from keras.callbacks import LambdaCallback\n",
    "\n",
    "from plotutil import PlotCallback"
   ]
  },
  {
   "cell_type": "code",
   "execution_count": 3,
   "metadata": {},
   "outputs": [],
   "source": [
    "# import data\n",
    "df = pd.read_csv('../data/daily-min-temperatures.csv')\n",
    "data = df.Temp.astype('float32').values"
   ]
  },
  {
   "cell_type": "markdown",
   "metadata": {},
   "source": [
    "We are going to use a commonly used technique called a sliding window for our time-series data. This basically involves looking at a window of data and calling it your features while using the succeeding column or period as the label. \n",
    "\n",
    "Terrible definition but it looks a little something like this: ![pic](https://3qeqpr26caki16dnhd19sv6by6v-wpengine.netdna-ssl.com/wp-content/uploads/2018/11/Sliding-Window-Approach-to-Modeling-Time-Series.png)\n",
    "\n",
    "I'll be using a lookback window of 20 here."
   ]
  },
  {
   "cell_type": "code",
   "execution_count": 4,
   "metadata": {},
   "outputs": [],
   "source": [
    "lookback_window = 20"
   ]
  },
  {
   "cell_type": "code",
   "execution_count": 5,
   "metadata": {},
   "outputs": [],
   "source": [
    "# convert an array of values into a dataset matrix\n",
    "def create_dataset(dataset):\n",
    "    dataX, dataY = [], []\n",
    "    for i in range(len(dataset) - lookback_window-1):\n",
    "        a = dataset[i:(i+lookback_window)]\n",
    "        dataX.append(a)\n",
    "        dataY.append(dataset[i + lookback_window])\n",
    "    return np.array(dataX), np.array(dataY)"
   ]
  },
  {
   "cell_type": "code",
   "execution_count": 6,
   "metadata": {},
   "outputs": [],
   "source": [
    "# split data into train/test sets\n",
    "split_point = int(len(data) * 0.70)\n",
    "train = data[:split_point]\n",
    "test  = data[split_point:]"
   ]
  },
  {
   "cell_type": "markdown",
   "metadata": {},
   "source": [
    "Above, notice we don't randomly split the data. Why? **Because we want to preserve the time aspect!!**"
   ]
  },
  {
   "cell_type": "code",
   "execution_count": 7,
   "metadata": {},
   "outputs": [],
   "source": [
    "# create lookback matrices\n",
    "trainX, trainY = create_dataset(train)\n",
    "testX,  testY  = create_dataset(test)"
   ]
  },
  {
   "cell_type": "code",
   "execution_count": 8,
   "metadata": {},
   "outputs": [],
   "source": [
    "# add a new dimension for compliance \n",
    "trainX = trainX[:, :, np.newaxis]\n",
    "testX  = testX[:, :, np.newaxis]"
   ]
  },
  {
   "cell_type": "code",
   "execution_count": null,
   "metadata": {},
   "outputs": [],
   "source": [
    "# create and fit the RNN\n",
    "model = Sequential()\n",
    "model.add(Flatten(input_shape=(lookback_window, 1)))\n",
    "model.add(Dense(1))\n",
    "model.compile(loss='mae', optimizer='adam', metrics=['mae']) # we use mean absolute error as our metric\n",
    "model.fit(trainX, trainY, epochs=1000, batch_size=10,\n",
    "          validation_data=(testX, testY))\n",
    "          #,callbacks=[PlotCallback(trainX, trainY, testX, testY, lookback_window)])"
   ]
  }
 ],
 "metadata": {
  "kernelspec": {
   "display_name": "Python (keras-cpu)",
   "language": "python",
   "name": "keras-cpu"
  },
  "language_info": {
   "codemirror_mode": {
    "name": "ipython",
    "version": 3
   },
   "file_extension": ".py",
   "mimetype": "text/x-python",
   "name": "python",
   "nbconvert_exporter": "python",
   "pygments_lexer": "ipython3",
   "version": "3.7.4"
  }
 },
 "nbformat": 4,
 "nbformat_minor": 2
}

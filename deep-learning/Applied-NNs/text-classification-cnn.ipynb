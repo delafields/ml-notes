{
 "cells": [
  {
   "cell_type": "markdown",
   "metadata": {},
   "source": [
    "### Text classification using CNNs\n",
    "\n",
    "The goal here is to determine whether an IMDB review is positive or negative.\n",
    "\n",
    "Via this great [wandb](https://www.youtube.com/watch?v=8YsZXTpFRO0&t=2s) tutorial. \n",
    "\n",
    "This lesson uses [GloVe](https://nlp.stanford.edu/projects/glove/) word embeddings."
   ]
  },
  {
   "cell_type": "code",
   "execution_count": 8,
   "metadata": {},
   "outputs": [],
   "source": [
    "# import packages\n",
    "from keras.preprocessing import sequence, text\n",
    "from keras.models import Sequential\n",
    "from keras.layers import Dense, Dropout, Activation\n",
    "from keras.layers import Embedding, LSTM\n",
    "from keras.layers import Conv1D, Flatten, MaxPooling1D\n",
    "\n",
    "import numpy as np\n",
    "\n",
    "from load_amazon_data import load_amazon_smaller"
   ]
  },
  {
   "cell_type": "code",
   "execution_count": 2,
   "metadata": {},
   "outputs": [],
   "source": [
    "# import data\n",
    "(train_summary, train_review_text, train_labels), (test_summary, test_review_text, test_labels) = load_amazon_smaller()\n",
    "(X_train, y_train), (X_test, y_test) = (train_summary, train_labels), (test_summary, test_labels)"
   ]
  },
  {
   "cell_type": "code",
   "execution_count": 3,
   "metadata": {},
   "outputs": [],
   "source": [
    "# config variables\n",
    "VOCAB_SIZE = 1000\n",
    "MAXLEN = 1000\n",
    "BATCH_SIZE = 32\n",
    "EMBEDDING_DIMS = 50\n",
    "FILTERS = 32\n",
    "KERNEL_SIZE = 3\n",
    "HIDDEN_DIMS = 250\n",
    "EPOCHS = 10"
   ]
  },
  {
   "cell_type": "code",
   "execution_count": 6,
   "metadata": {},
   "outputs": [],
   "source": [
    "# tokenize our text strings\n",
    "tokenizer = text.Tokenizer(num_words=VOCAB_SIZE)\n",
    "tokenizer.fit_on_texts(X_train)\n",
    "X_train = tokenizer.texts_to_sequences(X_train)\n",
    "X_test  = tokenizer.texts_to_sequences(X_test)"
   ]
  },
  {
   "cell_type": "code",
   "execution_count": 7,
   "metadata": {},
   "outputs": [],
   "source": [
    "# pad out the X sequences, essentially adding empty words to make the reviews equal length\n",
    "X_train = sequence.pad_sequences(X_train, maxlen=MAXLEN)\n",
    "X_test  = sequence.pad_sequences(X_test, maxlen=MAXLEN)"
   ]
  },
  {
   "cell_type": "code",
   "execution_count": 11,
   "metadata": {},
   "outputs": [
    {
     "name": "stderr",
     "output_type": "stream",
     "text": [
      "W0929 20:01:12.917228 10176 deprecation_wrapper.py:119] From C:\\Users\\jfields\\.conda\\envs\\keras-cpu\\lib\\site-packages\\keras\\backend\\tensorflow_backend.py:3376: The name tf.log is deprecated. Please use tf.math.log instead.\n",
      "\n",
      "W0929 20:01:12.921209 10176 deprecation.py:323] From C:\\Users\\jfields\\AppData\\Roaming\\Python\\Python37\\site-packages\\tensorflow\\python\\ops\\nn_impl.py:180: add_dispatch_support.<locals>.wrapper (from tensorflow.python.ops.array_ops) is deprecated and will be removed in a future version.\n",
      "Instructions for updating:\n",
      "Use tf.where in 2.0, which has the same broadcast rule as np.where\n"
     ]
    },
    {
     "name": "stdout",
     "output_type": "stream",
     "text": [
      "Train on 20000 samples, validate on 20000 samples\n",
      "Epoch 1/10\n",
      "20000/20000 [==============================] - 96s 5ms/step - loss: 0.3607 - acc: 0.8824 - val_loss: 0.4217 - val_acc: 0.8534\n",
      "Epoch 2/10\n",
      "20000/20000 [==============================] - 94s 5ms/step - loss: 0.3325 - acc: 0.8835 - val_loss: 0.3935 - val_acc: 0.8534\n",
      "Epoch 3/10\n",
      "20000/20000 [==============================] - 97s 5ms/step - loss: 0.3162 - acc: 0.8843 - val_loss: 0.3904 - val_acc: 0.8577\n",
      "Epoch 4/10\n",
      "20000/20000 [==============================] - 99s 5ms/step - loss: 0.3050 - acc: 0.8891 - val_loss: 0.3953 - val_acc: 0.8596\n",
      "Epoch 5/10\n",
      "20000/20000 [==============================] - 100s 5ms/step - loss: 0.2978 - acc: 0.8890 - val_loss: 0.4021 - val_acc: 0.8596\n",
      "Epoch 6/10\n",
      "20000/20000 [==============================] - 111s 6ms/step - loss: 0.2925 - acc: 0.8905 - val_loss: 0.4147 - val_acc: 0.8600\n",
      "Epoch 7/10\n",
      "20000/20000 [==============================] - 108s 5ms/step - loss: 0.2884 - acc: 0.8934 - val_loss: 0.4114 - val_acc: 0.8588\n",
      "Epoch 8/10\n",
      "20000/20000 [==============================] - 103s 5ms/step - loss: 0.2831 - acc: 0.8938 - val_loss: 0.4079 - val_acc: 0.8570\n",
      "Epoch 9/10\n",
      "20000/20000 [==============================] - 106s 5ms/step - loss: 0.2816 - acc: 0.8956 - val_loss: 0.4145 - val_acc: 0.8579\n",
      "Epoch 10/10\n",
      "20000/20000 [==============================] - 110s 5ms/step - loss: 0.2724 - acc: 0.8986 - val_loss: 0.4275 - val_acc: 0.8567\n"
     ]
    }
   ],
   "source": [
    "# create model\n",
    "model = Sequential()\n",
    "# This embedding layer takes in the top VOCAB_SIZE words as inputs\n",
    "# as well as the number of numbers we're translating a word into (EMBEDDING_DIMS)\n",
    "model.add(Embedding(VOCAB_SIZE,\n",
    "                    EMBEDDING_DIMS,\n",
    "                    input_length=MAXLEN))\n",
    "model.add(Dropout(0.5))\n",
    "model.add(Conv1D(FILTERS,\n",
    "                 KERNEL_SIZE,\n",
    "                 padding='valid', # no padding\n",
    "                 activation='relu'))\n",
    "model.add(MaxPooling1D())\n",
    "model.add(Conv1D(FILTERS,\n",
    "                 KERNEL_SIZE,\n",
    "                 padding='valid',\n",
    "                 activation='relu'))\n",
    "model.add(MaxPooling1D())\n",
    "model.add(Flatten())\n",
    "model.add(Dense(HIDDEN_DIMS, activation='relu'))\n",
    "model.add(Dropout(0.5))\n",
    "model.add(Dense(1, activation='sigmoid'))\n",
    "\n",
    "model.compile(loss='binary_crossentropy',\n",
    "              optimizer='adam',\n",
    "              metrics=['accuracy'])\n",
    "\n",
    "history = model.fit(X_train, y_train,\n",
    "                    batch_size=BATCH_SIZE,\n",
    "                    epochs=EPOCHS,\n",
    "                    validation_data=(X_test, y_test))"
   ]
  },
  {
   "cell_type": "code",
   "execution_count": 13,
   "metadata": {},
   "outputs": [
    {
     "data": {
      "image/png": "[encoded data removed]",
      "text/plain": [
       "<Figure size 432x288 with 1 Axes>"
      ]
     },
     "metadata": {
      "needs_background": "light"
     },
     "output_type": "display_data"
    },
    {
     "data": {
      "image/png": "[encoded data removed]",
      "text/plain": [
       "<Figure size 432x288 with 1 Axes>"
      ]
     },
     "metadata": {
      "needs_background": "light"
     },
     "output_type": "display_data"
    }
   ],
   "source": [
    "import matplotlib.pyplot as plt\n",
    "%matplotlib inline\n",
    "\n",
    "# Plot training & validation accuracy values\n",
    "plt.plot(history.history['acc'])\n",
    "plt.plot(history.history['val_acc'])\n",
    "plt.title('Model accuracy')\n",
    "plt.ylabel('Accuracy')\n",
    "plt.xlabel('Epoch')\n",
    "plt.legend(['Train', 'Test'], loc='upper left')\n",
    "plt.show()\n",
    "\n",
    "# Plot training & validation loss values\n",
    "plt.plot(history.history['loss'])\n",
    "plt.plot(history.history['val_loss'])\n",
    "plt.title('Model loss')\n",
    "plt.ylabel('Loss')\n",
    "plt.xlabel('Epoch')\n",
    "plt.legend(['Train', 'Test'], loc='upper left')\n",
    "plt.show()"
   ]
  },
  {
   "cell_type": "code",
   "execution_count": null,
   "metadata": {},
   "outputs": [],
   "source": []
  }
 ],
 "metadata": {
  "kernelspec": {
   "display_name": "Python (keras-cpu)",
   "language": "python",
   "name": "keras-cpu"
  },
  "language_info": {
   "codemirror_mode": {
    "name": "ipython",
    "version": 3
   },
   "file_extension": ".py",
   "mimetype": "text/x-python",
   "name": "python",
   "nbconvert_exporter": "python",
   "pygments_lexer": "ipython3",
   "version": "3.7.4"
  }
 },
 "nbformat": 4,
 "nbformat_minor": 2
}

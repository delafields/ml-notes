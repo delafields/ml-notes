{
 "cells": [
  {
   "cell_type": "markdown",
   "metadata": {},
   "source": [
    "This is a little mnist fashion classifier, via [this lesson](https://www.youtube.com/watch?v=GVKDa5hxUZE)."
   ]
  },
  {
   "cell_type": "code",
   "execution_count": 18,
   "metadata": {},
   "outputs": [],
   "source": [
    "# import keras packages\n",
    "from tensorflow.keras.utils import to_categorical\n",
    "from tensorflow.keras.datasets import fashion_mnist\n",
    "from tensorflow.keras.models import Sequential\n",
    "from tensorflow.keras.layers import Dense, Flatten, Dropout"
   ]
  },
  {
   "cell_type": "code",
   "execution_count": 2,
   "metadata": {},
   "outputs": [
    {
     "name": "stderr",
     "output_type": "stream",
     "text": [
      "wandb: ERROR To use wandb on Windows, you need to run the command \"wandb run python <your_train_script>.py\"\n"
     ]
    }
   ],
   "source": [
    "# logging code\n",
    "import wandb\n",
    "from wandb.keras import WandbCallback\n",
    "run = wandb.init(project=\"fashion\")"
   ]
  },
  {
   "cell_type": "code",
   "execution_count": 3,
   "metadata": {},
   "outputs": [],
   "source": [
    "# load data\n",
    "(X_train, y_train), (X_test, y_test) = fashion_mnist.load_data()\n",
    "img_width  = X_train.shape[1]\n",
    "img_height = X_train.shape[2]"
   ]
  },
  {
   "cell_type": "code",
   "execution_count": 4,
   "metadata": {},
   "outputs": [],
   "source": [
    "# one hot encode the outputs\n",
    "y_train = to_categorical(y_train)\n",
    "y_test  = to_categorical(y_test)\n",
    "\n",
    "labels = [\"T-shirt/top\", \"Trouser\", \"Pullover\", \"Dress\",\n",
    "          \"Coat\", \"Sandal\", \"Shirt\", \"Sneaker\", \"Bag\", \"Ankle boot\"]\n",
    "\n",
    "num_classes = y_train.shape[1]"
   ]
  },
  {
   "cell_type": "code",
   "execution_count": 5,
   "metadata": {},
   "outputs": [
    {
     "name": "stderr",
     "output_type": "stream",
     "text": [
      "WARNING: Logging before flag parsing goes to stderr.\n",
      "W0925 16:51:05.160989 10236 deprecation.py:506] From C:\\Users\\jfields\\AppData\\Roaming\\Python\\Python37\\site-packages\\tensorflow\\python\\ops\\init_ops.py:1251: calling VarianceScaling.__init__ (from tensorflow.python.ops.init_ops) with dtype is deprecated and will be removed in a future version.\n",
      "Instructions for updating:\n",
      "Call initializer instance with the dtype argument instead of passing it to the constructor\n",
      "wandb: ERROR wandb.init hasn't been called, can't configure run\n",
      "W0925 16:51:05.317957 10236 deprecation.py:323] From C:\\Users\\jfields\\AppData\\Roaming\\Python\\Python37\\site-packages\\tensorflow\\python\\ops\\math_grad.py:1250: add_dispatch_support.<locals>.wrapper (from tensorflow.python.ops.array_ops) is deprecated and will be removed in a future version.\n",
      "Instructions for updating:\n",
      "Use tf.where in 2.0, which has the same broadcast rule as np.where\n"
     ]
    },
    {
     "name": "stdout",
     "output_type": "stream",
     "text": [
      "Train on 60000 samples, validate on 10000 samples\n",
      "Epoch 1/10\n",
      "60000/60000 [==============================] - 3s 50us/sample - loss: 11.3480 - acc: 0.3345 - val_loss: 11.0490 - val_acc: 0.3666\n",
      "Epoch 2/10\n",
      "60000/60000 [==============================] - 3s 48us/sample - loss: 11.0955 - acc: 0.3720 - val_loss: 10.6912 - val_acc: 0.3748\n",
      "Epoch 3/10\n",
      "60000/60000 [==============================] - 3s 48us/sample - loss: 9.8708 - acc: 0.3587 - val_loss: 10.5332 - val_acc: 0.3295\n",
      "Epoch 4/10\n",
      "60000/60000 [==============================] - 2s 42us/sample - loss: 9.7972 - acc: 0.2815 - val_loss: 8.6312 - val_acc: 0.2864\n",
      "Epoch 5/10\n",
      "60000/60000 [==============================] - 2s 38us/sample - loss: 8.6753 - acc: 0.2914 - val_loss: 8.6312 - val_acc: 0.2864\n",
      "Epoch 6/10\n",
      "60000/60000 [==============================] - 3s 45us/sample - loss: 8.6753 - acc: 0.2914 - val_loss: 8.6312 - val_acc: 0.2864\n",
      "Epoch 7/10\n",
      "60000/60000 [==============================] - 2s 38us/sample - loss: 8.6753 - acc: 0.2914 - val_loss: 8.6312 - val_acc: 0.2864\n",
      "Epoch 8/10\n",
      "60000/60000 [==============================] - 2s 41us/sample - loss: 8.6753 - acc: 0.2914 - val_loss: 8.6312 - val_acc: 0.2864\n",
      "Epoch 9/10\n",
      "60000/60000 [==============================] - 2s 38us/sample - loss: 8.6753 - acc: 0.2914 - val_loss: 8.6312 - val_acc: 0.2864\n",
      "Epoch 10/10\n",
      "60000/60000 [==============================] - 2s 38us/sample - loss: 8.6753 - acc: 0.2914 - val_loss: 8.6312 - val_acc: 0.2864\n"
     ]
    },
    {
     "data": {
      "text/plain": [
       "<tensorflow.python.keras.callbacks.History at 0x27453b51f88>"
      ]
     },
     "execution_count": 5,
     "metadata": {},
     "output_type": "execute_result"
    }
   ],
   "source": [
    "# create and fit the model\n",
    "model = Sequential()\n",
    "model.add(Flatten(input_shape=(img_width,img_height)))\n",
    "model.add(Dense(num_classes))\n",
    "model.compile(loss='categorical_crossentropy', optimizer='adam', metrics=['accuracy'])\n",
    "\n",
    "model.fit(X_train, y_train, epochs=10, validation_data=(X_test, y_test),\n",
    "          callbacks=[WandbCallback(data_type=\"image\", labels=labels)])"
   ]
  },
  {
   "cell_type": "markdown",
   "metadata": {},
   "source": [
    "29% accuracy.....kinda sucks!\n",
    "\n",
    "There are some improvements we can make though. \n",
    "\n",
    "First off, lets normalize the data (after reimporting it)"
   ]
  },
  {
   "cell_type": "code",
   "execution_count": 16,
   "metadata": {},
   "outputs": [
    {
     "name": "stdout",
     "output_type": "stream",
     "text": [
      "Train on 60000 samples, validate on 10000 samples\n",
      "Epoch 1/10\n",
      "60000/60000 [==============================] - 3s 55us/sample - loss: 0.6017 - acc: 0.7962 - val_loss: 0.5051 - val_acc: 0.8272\n",
      "Epoch 2/10\n",
      "60000/60000 [==============================] - 3s 43us/sample - loss: 0.4615 - acc: 0.8420 - val_loss: 0.4731 - val_acc: 0.8358\n",
      "Epoch 3/10\n",
      "60000/60000 [==============================] - 4s 68us/sample - loss: 0.4356 - acc: 0.8501 - val_loss: 0.4590 - val_acc: 0.8387\n",
      "Epoch 4/10\n",
      "60000/60000 [==============================] - 3s 55us/sample - loss: 0.4210 - acc: 0.8553 - val_loss: 0.4581 - val_acc: 0.8396\n",
      "Epoch 5/10\n",
      "60000/60000 [==============================] - 3s 53us/sample - loss: 0.4139 - acc: 0.8565 - val_loss: 0.4589 - val_acc: 0.8399\n",
      "Epoch 6/10\n",
      "60000/60000 [==============================] - 3s 53us/sample - loss: 0.4065 - acc: 0.8595 - val_loss: 0.4515 - val_acc: 0.8441\n",
      "Epoch 7/10\n",
      "60000/60000 [==============================] - 3s 52us/sample - loss: 0.4014 - acc: 0.8610 - val_loss: 0.4430 - val_acc: 0.8461\n",
      "Epoch 8/10\n",
      "60000/60000 [==============================] - 3s 46us/sample - loss: 0.3979 - acc: 0.8623 - val_loss: 0.4532 - val_acc: 0.8442\n",
      "Epoch 9/10\n",
      "60000/60000 [==============================] - 4s 59us/sample - loss: 0.3947 - acc: 0.8626 - val_loss: 0.4674 - val_acc: 0.8324\n",
      "Epoch 10/10\n",
      "60000/60000 [==============================] - 3s 50us/sample - loss: 0.3922 - acc: 0.8630 - val_loss: 0.4478 - val_acc: 0.8455\n"
     ]
    },
    {
     "data": {
      "text/plain": [
       "<tensorflow.python.keras.callbacks.History at 0x27417f42c88>"
      ]
     },
     "execution_count": 16,
     "metadata": {},
     "output_type": "execute_result"
    }
   ],
   "source": [
    "# load data\n",
    "(X_train, y_train), (X_test, y_test) = fashion_mnist.load_data()\n",
    "img_width = X_train.shape[1]\n",
    "img_height = X_train.shape[2]\n",
    "\n",
    "# one hot encode outputs\n",
    "y_train = to_categorical(y_train)\n",
    "y_test = to_categorical(y_test)\n",
    "labels = [\"T-shirt/top\", \"Trouser\", \"Pullover\", \"Dress\",\n",
    "          \"Coat\", \"Sandal\", \"Shirt\", \"Sneaker\", \"Bag\", \"Ankle boot\"]\n",
    "\n",
    "\n",
    "X_train = X_train / 255.\n",
    "X_test = X_test / 255.\n",
    "\n",
    "num_classes = y_train.shape[1]\n",
    "\n",
    "# create model\n",
    "model = Sequential()\n",
    "model.add(Flatten(input_shape=(img_width, img_height)))\n",
    "model.add(Dense(num_classes, activation=\"softmax\"))\n",
    "model.compile(loss='categorical_crossentropy', optimizer='adam',\n",
    "              metrics=['accuracy'])\n",
    "\n",
    "# Fit the model\n",
    "model.fit(X_train, y_train, epochs=10, validation_data=(X_test, y_test),\n",
    "          callbacks=[WandbCallback(data_type=\"image\", labels=labels)])"
   ]
  },
  {
   "cell_type": "markdown",
   "metadata": {},
   "source": [
    "86% on the data! Sweet. Normalizing images is a must.\n",
    "\n",
    "Note - our training accuracy ends higher than our validation accuracy. This is a telltale sign of overfitting.\n",
    "\n",
    "Next, we're going to add another activation function (relu) and a few dropout layers - the latter helping with overfitting."
   ]
  },
  {
   "cell_type": "code",
   "execution_count": 19,
   "metadata": {},
   "outputs": [
    {
     "name": "stdout",
     "output_type": "stream",
     "text": [
      "Train on 60000 samples, validate on 10000 samples\n",
      "Epoch 1/10\n",
      "60000/60000 [==============================] - 6s 101us/sample - loss: 0.6953 - acc: 0.7485 - val_loss: 0.4781 - val_acc: 0.8291\n",
      "Epoch 2/10\n",
      "60000/60000 [==============================] - 6s 101us/sample - loss: 0.5353 - acc: 0.8038 - val_loss: 0.4374 - val_acc: 0.8455\n",
      "Epoch 3/10\n",
      "60000/60000 [==============================] - 7s 116us/sample - loss: 0.5066 - acc: 0.8145 - val_loss: 0.4303 - val_acc: 0.8398\n",
      "Epoch 4/10\n",
      "60000/60000 [==============================] - 6s 94us/sample - loss: 0.4878 - acc: 0.8203 - val_loss: 0.4111 - val_acc: 0.8501\n",
      "Epoch 5/10\n",
      "60000/60000 [==============================] - 5s 90us/sample - loss: 0.4766 - acc: 0.8248 - val_loss: 0.4045 - val_acc: 0.8507\n",
      "Epoch 6/10\n",
      "60000/60000 [==============================] - 7s 123us/sample - loss: 0.4712 - acc: 0.8270 - val_loss: 0.4001 - val_acc: 0.8514\n",
      "Epoch 7/10\n",
      "60000/60000 [==============================] - 6s 97us/sample - loss: 0.4623 - acc: 0.8299 - val_loss: 0.3969 - val_acc: 0.8561\n",
      "Epoch 8/10\n",
      "60000/60000 [==============================] - 7s 110us/sample - loss: 0.4539 - acc: 0.8323 - val_loss: 0.4009 - val_acc: 0.8530\n",
      "Epoch 9/10\n",
      "60000/60000 [==============================] - 6s 101us/sample - loss: 0.4524 - acc: 0.8335 - val_loss: 0.3975 - val_acc: 0.8545\n",
      "Epoch 10/10\n",
      "60000/60000 [==============================] - 6s 101us/sample - loss: 0.4468 - acc: 0.8351 - val_loss: 0.3855 - val_acc: 0.8608\n"
     ]
    },
    {
     "data": {
      "text/plain": [
       "<tensorflow.python.keras.callbacks.History at 0x274001b3d48>"
      ]
     },
     "execution_count": 19,
     "metadata": {},
     "output_type": "execute_result"
    }
   ],
   "source": [
    "# create model\n",
    "model = Sequential()\n",
    "model.add(Flatten(input_shape=(img_width, img_height)))\n",
    "model.add(Dropout(0.4))\n",
    "model.add(Dense(100, activation=\"relu\")) # Added - 100=num hidden nodes\n",
    "model.add(Dropout(0.4))\n",
    "model.add(Dense(num_classes, activation=\"softmax\"))\n",
    "model.compile(loss='categorical_crossentropy', optimizer='adam',\n",
    "              metrics=['accuracy'])\n",
    "\n",
    "# Fit the model\n",
    "model.fit(X_train, y_train, epochs=10, validation_data=(X_test, y_test),\n",
    "          callbacks=[WandbCallback(data_type=\"image\", labels=labels)])"
   ]
  },
  {
   "cell_type": "markdown",
   "metadata": {},
   "source": [
    "Poorer training accuracy but an increased validation accuracy. Nice."
   ]
  }
 ],
 "metadata": {
  "kernelspec": {
   "display_name": "Python (keras-cpu)",
   "language": "python",
   "name": "keras-cpu"
  },
  "language_info": {
   "codemirror_mode": {
    "name": "ipython",
    "version": 3
   },
   "file_extension": ".py",
   "mimetype": "text/x-python",
   "name": "python",
   "nbconvert_exporter": "python",
   "pygments_lexer": "ipython3",
   "version": "3.7.4"
  }
 },
 "nbformat": 4,
 "nbformat_minor": 2
}
